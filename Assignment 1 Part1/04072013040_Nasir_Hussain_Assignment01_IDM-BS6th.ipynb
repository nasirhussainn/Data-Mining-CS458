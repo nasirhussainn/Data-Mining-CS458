{
 "cells": [
  {
   "cell_type": "markdown",
   "id": "6819665c",
   "metadata": {},
   "source": [
    "<h4 style=\"color:purple\">Nasir Hussain 04072013040</h4>"
   ]
  },
  {
   "cell_type": "markdown",
   "id": "d7e7b659",
   "metadata": {},
   "source": [
    "<center>\n",
    "<h3 style=\"color:purple\">Introduction to Data Mining</h3>\n",
    "<h4 style=\"color:purple\">Assignment : 01</h4>\n",
    "</center>"
   ]
  },
  {
   "cell_type": "markdown",
   "id": "83e99c6f",
   "metadata": {},
   "source": [
    "<p style=\"color:red\">Pandas Library is not used for any task of assignment. However it is used for some elaboration</p>"
   ]
  },
  {
   "cell_type": "code",
   "execution_count": 44,
   "id": "e1776447",
   "metadata": {},
   "outputs": [],
   "source": [
    "import numpy as np\n",
    "import matplotlib.pyplot as plt\n",
    "import pandas as pd"
   ]
  },
  {
   "cell_type": "markdown",
   "id": "492fee61",
   "metadata": {},
   "source": [
    "<h3 style=\"color:purple\">Task 1:Load the dataset</h3>"
   ]
  },
  {
   "cell_type": "code",
   "execution_count": 45,
   "id": "60b2d142",
   "metadata": {},
   "outputs": [
    {
     "data": {
      "text/plain": [
       "array([['age', 'job', 'marital', ..., 'previous', 'poutcome',\n",
       "        'subscribed'],\n",
       "       ['30', 'unemployed', 'married', ..., '0', 'unknown', 'no'],\n",
       "       ['33', 'services', 'married', ..., '4', 'failure', 'no'],\n",
       "       ...,\n",
       "       ['34', 'management', 'single', ..., '1', 'failure', 'no'],\n",
       "       ['40', 'services', 'married', ..., '0', 'unknown', 'no'],\n",
       "       ['20', 'student', 'single', ..., '5', 'failure', 'no']],\n",
       "      dtype='<U13')"
      ]
     },
     "execution_count": 45,
     "metadata": {},
     "output_type": "execute_result"
    }
   ],
   "source": [
    "dataset=np.genfromtxt(\"Bank Marketing Dataset.csv\",delimiter=\",\",dtype=str)\n",
    "dataset = dataset[:1001]\n",
    "dataset"
   ]
  },
  {
   "cell_type": "code",
   "execution_count": 46,
   "id": "52d7330f",
   "metadata": {
    "scrolled": true
   },
   "outputs": [
    {
     "data": {
      "text/html": [
       "<div>\n",
       "<style scoped>\n",
       "    .dataframe tbody tr th:only-of-type {\n",
       "        vertical-align: middle;\n",
       "    }\n",
       "\n",
       "    .dataframe tbody tr th {\n",
       "        vertical-align: top;\n",
       "    }\n",
       "\n",
       "    .dataframe thead th {\n",
       "        text-align: right;\n",
       "    }\n",
       "</style>\n",
       "<table border=\"1\" class=\"dataframe\">\n",
       "  <thead>\n",
       "    <tr style=\"text-align: right;\">\n",
       "      <th></th>\n",
       "      <th>age</th>\n",
       "      <th>job</th>\n",
       "      <th>marital</th>\n",
       "      <th>education</th>\n",
       "      <th>default</th>\n",
       "      <th>balance</th>\n",
       "      <th>housing</th>\n",
       "      <th>loan</th>\n",
       "      <th>contact</th>\n",
       "      <th>day</th>\n",
       "      <th>month</th>\n",
       "      <th>duration</th>\n",
       "      <th>campaign</th>\n",
       "      <th>pdays</th>\n",
       "      <th>previous</th>\n",
       "      <th>poutcome</th>\n",
       "      <th>subscribed</th>\n",
       "    </tr>\n",
       "  </thead>\n",
       "  <tbody>\n",
       "    <tr>\n",
       "      <th>0</th>\n",
       "      <td>30</td>\n",
       "      <td>unemployed</td>\n",
       "      <td>married</td>\n",
       "      <td>primary</td>\n",
       "      <td>no</td>\n",
       "      <td>1787</td>\n",
       "      <td>no</td>\n",
       "      <td>no</td>\n",
       "      <td>cellular</td>\n",
       "      <td>19</td>\n",
       "      <td>oct</td>\n",
       "      <td>79</td>\n",
       "      <td>1</td>\n",
       "      <td>-1</td>\n",
       "      <td>0</td>\n",
       "      <td>unknown</td>\n",
       "      <td>no</td>\n",
       "    </tr>\n",
       "    <tr>\n",
       "      <th>1</th>\n",
       "      <td>33</td>\n",
       "      <td>services</td>\n",
       "      <td>married</td>\n",
       "      <td>secondary</td>\n",
       "      <td>no</td>\n",
       "      <td>4789</td>\n",
       "      <td>yes</td>\n",
       "      <td>yes</td>\n",
       "      <td>cellular</td>\n",
       "      <td>11</td>\n",
       "      <td>may</td>\n",
       "      <td>220</td>\n",
       "      <td>1</td>\n",
       "      <td>339</td>\n",
       "      <td>4</td>\n",
       "      <td>failure</td>\n",
       "      <td>no</td>\n",
       "    </tr>\n",
       "    <tr>\n",
       "      <th>2</th>\n",
       "      <td>35</td>\n",
       "      <td>management</td>\n",
       "      <td>single</td>\n",
       "      <td>tertiary</td>\n",
       "      <td>no</td>\n",
       "      <td>1350</td>\n",
       "      <td>yes</td>\n",
       "      <td>no</td>\n",
       "      <td>cellular</td>\n",
       "      <td>16</td>\n",
       "      <td>apr</td>\n",
       "      <td>185</td>\n",
       "      <td>1</td>\n",
       "      <td>330</td>\n",
       "      <td>1</td>\n",
       "      <td>failure</td>\n",
       "      <td>no</td>\n",
       "    </tr>\n",
       "    <tr>\n",
       "      <th>3</th>\n",
       "      <td>30</td>\n",
       "      <td>management</td>\n",
       "      <td>married</td>\n",
       "      <td>tertiary</td>\n",
       "      <td>no</td>\n",
       "      <td>1476</td>\n",
       "      <td>yes</td>\n",
       "      <td>yes</td>\n",
       "      <td>unknown</td>\n",
       "      <td>3</td>\n",
       "      <td>jun</td>\n",
       "      <td>199</td>\n",
       "      <td>4</td>\n",
       "      <td>-1</td>\n",
       "      <td>0</td>\n",
       "      <td>unknown</td>\n",
       "      <td>no</td>\n",
       "    </tr>\n",
       "    <tr>\n",
       "      <th>4</th>\n",
       "      <td>59</td>\n",
       "      <td>blue-collar</td>\n",
       "      <td>married</td>\n",
       "      <td>secondary</td>\n",
       "      <td>no</td>\n",
       "      <td>0</td>\n",
       "      <td>yes</td>\n",
       "      <td>no</td>\n",
       "      <td>unknown</td>\n",
       "      <td>5</td>\n",
       "      <td>may</td>\n",
       "      <td>226</td>\n",
       "      <td>1</td>\n",
       "      <td>-1</td>\n",
       "      <td>0</td>\n",
       "      <td>unknown</td>\n",
       "      <td>no</td>\n",
       "    </tr>\n",
       "  </tbody>\n",
       "</table>\n",
       "</div>"
      ],
      "text/plain": [
       "   age          job  marital  education default  balance housing loan  \\\n",
       "0   30   unemployed  married    primary      no     1787      no   no   \n",
       "1   33     services  married  secondary      no     4789     yes  yes   \n",
       "2   35   management   single   tertiary      no     1350     yes   no   \n",
       "3   30   management  married   tertiary      no     1476     yes  yes   \n",
       "4   59  blue-collar  married  secondary      no        0     yes   no   \n",
       "\n",
       "    contact  day month  duration  campaign  pdays  previous poutcome  \\\n",
       "0  cellular   19   oct        79         1     -1         0  unknown   \n",
       "1  cellular   11   may       220         1    339         4  failure   \n",
       "2  cellular   16   apr       185         1    330         1  failure   \n",
       "3   unknown    3   jun       199         4     -1         0  unknown   \n",
       "4   unknown    5   may       226         1     -1         0  unknown   \n",
       "\n",
       "  subscribed  \n",
       "0         no  \n",
       "1         no  \n",
       "2         no  \n",
       "3         no  \n",
       "4         no  "
      ]
     },
     "execution_count": 46,
     "metadata": {},
     "output_type": "execute_result"
    }
   ],
   "source": [
    "data=pd.read_csv(\"Bank Marketing Dataset.csv\")\n",
    "data=data.iloc[:1000]\n",
    "data.head()"
   ]
  },
  {
   "cell_type": "code",
   "execution_count": 47,
   "id": "2e6f4501",
   "metadata": {},
   "outputs": [
    {
     "data": {
      "text/plain": [
       "1000"
      ]
     },
     "execution_count": 47,
     "metadata": {},
     "output_type": "execute_result"
    }
   ],
   "source": [
    "len(data)"
   ]
  },
  {
   "cell_type": "markdown",
   "id": "f32c7ed7",
   "metadata": {},
   "source": [
    "<h3 style=\"color:purple\">Task 2:Find the average, mean, median and standard deviation of one numerical attribute</h3>"
   ]
  },
  {
   "cell_type": "markdown",
   "id": "3ea56464",
   "metadata": {},
   "source": [
    "I have select the Balance column of Dataset which is 5th column of dataset"
   ]
  },
  {
   "cell_type": "code",
   "execution_count": 48,
   "id": "2ea34bb5",
   "metadata": {},
   "outputs": [],
   "source": [
    "Customer_Balance = dataset[1:, 5].astype(float)"
   ]
  },
  {
   "cell_type": "code",
   "execution_count": 49,
   "id": "a4f4f0b4",
   "metadata": {},
   "outputs": [],
   "source": [
    "Mean_Balance=np.mean(Customer_Balance)\n",
    "Median_Balance=np.median(Customer_Balance)\n",
    "Average_Balance=np.average(Customer_Balance)\n",
    "Std_Balance=np.std(Customer_Balance)"
   ]
  },
  {
   "cell_type": "code",
   "execution_count": 50,
   "id": "a83b3db6",
   "metadata": {},
   "outputs": [
    {
     "name": "stdout",
     "output_type": "stream",
     "text": [
      "Mean of Customer Balance is :  1498.592\n",
      "Median of Customer Balance is :  462.0\n",
      "Average of Customer Balance is :  1498.592\n",
      "Standard Deviation of Customer Balance is :  2777.026952252354\n"
     ]
    }
   ],
   "source": [
    "print(\"Mean of Customer Balance is : \",Mean_Balance)\n",
    "print(\"Median of Customer Balance is : \",Median_Balance)\n",
    "print(\"Average of Customer Balance is : \",Average_Balance)\n",
    "print(\"Standard Deviation of Customer Balance is : \",Std_Balance)"
   ]
  },
  {
   "cell_type": "markdown",
   "id": "06a30d0e",
   "metadata": {},
   "source": [
    "<p style=\"color:green\">Here data is dataframe and we can verify our result by using below Pandas method</p>"
   ]
  },
  {
   "cell_type": "code",
   "execution_count": 51,
   "id": "1a3129bf",
   "metadata": {},
   "outputs": [
    {
     "data": {
      "text/html": [
       "<div>\n",
       "<style scoped>\n",
       "    .dataframe tbody tr th:only-of-type {\n",
       "        vertical-align: middle;\n",
       "    }\n",
       "\n",
       "    .dataframe tbody tr th {\n",
       "        vertical-align: top;\n",
       "    }\n",
       "\n",
       "    .dataframe thead th {\n",
       "        text-align: right;\n",
       "    }\n",
       "</style>\n",
       "<table border=\"1\" class=\"dataframe\">\n",
       "  <thead>\n",
       "    <tr style=\"text-align: right;\">\n",
       "      <th></th>\n",
       "      <th>age</th>\n",
       "      <th>balance</th>\n",
       "      <th>day</th>\n",
       "      <th>duration</th>\n",
       "      <th>campaign</th>\n",
       "      <th>pdays</th>\n",
       "      <th>previous</th>\n",
       "    </tr>\n",
       "  </thead>\n",
       "  <tbody>\n",
       "    <tr>\n",
       "      <th>count</th>\n",
       "      <td>1000.000000</td>\n",
       "      <td>1000.000000</td>\n",
       "      <td>1000.000000</td>\n",
       "      <td>1000.000000</td>\n",
       "      <td>1000.000000</td>\n",
       "      <td>1000.000000</td>\n",
       "      <td>1000.000000</td>\n",
       "    </tr>\n",
       "    <tr>\n",
       "      <th>mean</th>\n",
       "      <td>41.174000</td>\n",
       "      <td>1498.592000</td>\n",
       "      <td>15.893000</td>\n",
       "      <td>263.780000</td>\n",
       "      <td>2.649000</td>\n",
       "      <td>40.371000</td>\n",
       "      <td>0.561000</td>\n",
       "    </tr>\n",
       "    <tr>\n",
       "      <th>std</th>\n",
       "      <td>10.463135</td>\n",
       "      <td>2778.416508</td>\n",
       "      <td>8.263767</td>\n",
       "      <td>273.777979</td>\n",
       "      <td>2.850601</td>\n",
       "      <td>96.981414</td>\n",
       "      <td>1.684968</td>\n",
       "    </tr>\n",
       "    <tr>\n",
       "      <th>min</th>\n",
       "      <td>19.000000</td>\n",
       "      <td>-1680.000000</td>\n",
       "      <td>1.000000</td>\n",
       "      <td>5.000000</td>\n",
       "      <td>1.000000</td>\n",
       "      <td>-1.000000</td>\n",
       "      <td>0.000000</td>\n",
       "    </tr>\n",
       "    <tr>\n",
       "      <th>25%</th>\n",
       "      <td>33.000000</td>\n",
       "      <td>81.000000</td>\n",
       "      <td>8.000000</td>\n",
       "      <td>106.000000</td>\n",
       "      <td>1.000000</td>\n",
       "      <td>-1.000000</td>\n",
       "      <td>0.000000</td>\n",
       "    </tr>\n",
       "    <tr>\n",
       "      <th>50%</th>\n",
       "      <td>40.000000</td>\n",
       "      <td>462.000000</td>\n",
       "      <td>16.000000</td>\n",
       "      <td>187.500000</td>\n",
       "      <td>2.000000</td>\n",
       "      <td>-1.000000</td>\n",
       "      <td>0.000000</td>\n",
       "    </tr>\n",
       "    <tr>\n",
       "      <th>75%</th>\n",
       "      <td>49.000000</td>\n",
       "      <td>1526.750000</td>\n",
       "      <td>21.000000</td>\n",
       "      <td>321.500000</td>\n",
       "      <td>3.000000</td>\n",
       "      <td>-1.000000</td>\n",
       "      <td>0.000000</td>\n",
       "    </tr>\n",
       "    <tr>\n",
       "      <th>max</th>\n",
       "      <td>83.000000</td>\n",
       "      <td>26965.000000</td>\n",
       "      <td>31.000000</td>\n",
       "      <td>3025.000000</td>\n",
       "      <td>32.000000</td>\n",
       "      <td>462.000000</td>\n",
       "      <td>20.000000</td>\n",
       "    </tr>\n",
       "  </tbody>\n",
       "</table>\n",
       "</div>"
      ],
      "text/plain": [
       "               age       balance          day     duration     campaign  \\\n",
       "count  1000.000000   1000.000000  1000.000000  1000.000000  1000.000000   \n",
       "mean     41.174000   1498.592000    15.893000   263.780000     2.649000   \n",
       "std      10.463135   2778.416508     8.263767   273.777979     2.850601   \n",
       "min      19.000000  -1680.000000     1.000000     5.000000     1.000000   \n",
       "25%      33.000000     81.000000     8.000000   106.000000     1.000000   \n",
       "50%      40.000000    462.000000    16.000000   187.500000     2.000000   \n",
       "75%      49.000000   1526.750000    21.000000   321.500000     3.000000   \n",
       "max      83.000000  26965.000000    31.000000  3025.000000    32.000000   \n",
       "\n",
       "             pdays     previous  \n",
       "count  1000.000000  1000.000000  \n",
       "mean     40.371000     0.561000  \n",
       "std      96.981414     1.684968  \n",
       "min      -1.000000     0.000000  \n",
       "25%      -1.000000     0.000000  \n",
       "50%      -1.000000     0.000000  \n",
       "75%      -1.000000     0.000000  \n",
       "max     462.000000    20.000000  "
      ]
     },
     "execution_count": 51,
     "metadata": {},
     "output_type": "execute_result"
    }
   ],
   "source": [
    "data.describe()"
   ]
  },
  {
   "cell_type": "markdown",
   "id": "19dde3fe",
   "metadata": {},
   "source": [
    "<h3 style=\"color:purple\">Task 3:Visualize one or more attributes using scatter plots</h3>"
   ]
  },
  {
   "cell_type": "code",
   "execution_count": 52,
   "id": "6f4aefb4",
   "metadata": {},
   "outputs": [],
   "source": [
    "%matplotlib inline"
   ]
  },
  {
   "cell_type": "code",
   "execution_count": 53,
   "id": "e30de2cb",
   "metadata": {},
   "outputs": [],
   "source": [
    "Customer_Ages = dataset[1:, 0].astype(float)\n",
    "Campaign = dataset[1:, 12].astype(float)\n"
   ]
  },
  {
   "cell_type": "code",
   "execution_count": 54,
   "id": "4ac4d67e",
   "metadata": {
    "scrolled": true
   },
   "outputs": [
    {
     "data": {
      "image/png": "[encoded data removed]",
      "text/plain": [
       "<Figure size 640x480 with 1 Axes>"
      ]
     },
     "metadata": {},
     "output_type": "display_data"
    }
   ],
   "source": [
    "plt.scatter(Customer_Ages,(Customer_Balance/100),marker=\"D\",s=5)\n",
    "plt.xlabel(\"Ages\")\n",
    "plt.ylabel(\"Balance (scaled down by a factor of 100)\")\n",
    "plt.title(\"Customer Age vs. Balance\")\n",
    "\n",
    "plt.grid(color=\"red\", linestyle=\":\", alpha=0.5)"
   ]
  },
  {
   "cell_type": "markdown",
   "id": "5499c2a3",
   "metadata": {},
   "source": [
    "<p style=\"color:maroon\"I have used only 100 data from dataset and we can we see that there is no relationship between balance and ages</p>"
   ]
  },
  {
   "cell_type": "markdown",
   "id": "193eb888",
   "metadata": {},
   "source": [
    "<p style=\"color:blue\">We can see that there is no relationship between Ages and Balance which mean Balance is not depend on Age.</p>"
   ]
  },
  {
   "cell_type": "code",
   "execution_count": 55,
   "id": "ec2d42d0",
   "metadata": {
    "scrolled": true
   },
   "outputs": [
    {
     "data": {
      "image/png": "[encoded data removed]",
      "text/plain": [
       "<Figure size 640x480 with 1 Axes>"
      ]
     },
     "metadata": {},
     "output_type": "display_data"
    }
   ],
   "source": [
    "plt.scatter((Customer_Balance/1000),Campaign,marker='D',s=5)\n",
    "\n",
    "plt.xlabel(\"Balance (scaled down by a factor of 1000)\")\n",
    "plt.ylabel(\"Campaign\")\n",
    "plt.title(\"Balance vs. Campaign\")\n",
    "\n",
    "plt.grid(color=\"red\", linestyle=\":\", alpha=0.5)"
   ]
  },
  {
   "cell_type": "markdown",
   "id": "8308b16f",
   "metadata": {},
   "source": [
    "<h3 style=\"color:purple\">Task 4:Find the similarity using an appropriate measure between any two categorical attributes</h3>"
   ]
  },
  {
   "cell_type": "markdown",
   "id": "c6fc657b",
   "metadata": {},
   "source": [
    "<center> <h3 style=\"color:green\"> simple matching method -> dij = (p - m) / p </h3></center>"
   ]
  },
  {
   "cell_type": "code",
   "execution_count": 56,
   "id": "f34d0cc6",
   "metadata": {},
   "outputs": [
    {
     "data": {
      "text/plain": [
       "array(['divorced', 'married', 'single'], dtype='<U13')"
      ]
     },
     "execution_count": 56,
     "metadata": {},
     "output_type": "execute_result"
    }
   ],
   "source": [
    "Customer_Marital = dataset[1:, 2]\n",
    "np.unique(Customer_Marital)"
   ]
  },
  {
   "cell_type": "code",
   "execution_count": 57,
   "id": "bfe41a95",
   "metadata": {
    "scrolled": true
   },
   "outputs": [
    {
     "data": {
      "text/plain": [
       "array(['primary', 'secondary', 'tertiary', 'unknown'], dtype='<U13')"
      ]
     },
     "execution_count": 57,
     "metadata": {},
     "output_type": "execute_result"
    }
   ],
   "source": [
    "Customer_Education = dataset[1:, 3]\n",
    "np.unique(Customer_Education)"
   ]
  },
  {
   "cell_type": "code",
   "execution_count": 58,
   "id": "9b9c7d33",
   "metadata": {},
   "outputs": [],
   "source": [
    "summ=0\n",
    "count=0\n",
    "dsim_matrix_nom = np.zeros((1000, 1000))\n",
    "for i in range(1000):\n",
    "    for j in range(i):\n",
    "        p=2\n",
    "        m=0\n",
    "        if(Customer_Marital[i]==Customer_Marital[j]):\n",
    "            m+=1\n",
    "        if(Customer_Education[i]==Customer_Education[j]):\n",
    "            m+=1\n",
    "        r=(p-m)/p\n",
    "        dsim_matrix_nom[i][j]=r\n",
    "        summ+=dsim_matrix_nom[i][j]\n",
    "        count+=1\n",
    "        "
   ]
  },
  {
   "cell_type": "code",
   "execution_count": 59,
   "id": "aa4b3e07",
   "metadata": {},
   "outputs": [
    {
     "data": {
      "text/plain": [
       "array([[0. , 0. , 0. , ..., 0. , 0. , 0. ],\n",
       "       [0.5, 0. , 0. , ..., 0. , 0. , 0. ],\n",
       "       [1. , 1. , 0. , ..., 0. , 0. , 0. ],\n",
       "       ...,\n",
       "       [1. , 1. , 0. , ..., 0. , 0. , 0. ],\n",
       "       [0.5, 0. , 1. , ..., 1. , 0. , 0. ],\n",
       "       [1. , 0.5, 0.5, ..., 0.5, 0.5, 0. ]])"
      ]
     },
     "execution_count": 59,
     "metadata": {},
     "output_type": "execute_result"
    }
   ],
   "source": [
    "dsim_matrix_nom"
   ]
  },
  {
   "cell_type": "code",
   "execution_count": 60,
   "id": "7d4a0a59",
   "metadata": {},
   "outputs": [
    {
     "data": {
      "text/plain": [
       "0.5931031031031031"
      ]
     },
     "execution_count": 60,
     "metadata": {},
     "output_type": "execute_result"
    }
   ],
   "source": [
    "mean_matrix=summ/count\n",
    "mean_matrix"
   ]
  },
  {
   "cell_type": "code",
   "execution_count": 61,
   "id": "444daea4",
   "metadata": {},
   "outputs": [
    {
     "data": {
      "text/plain": [
       "0.4068968968968969"
      ]
     },
     "execution_count": 61,
     "metadata": {},
     "output_type": "execute_result"
    }
   ],
   "source": [
    "simmilarity_nom = 1 - mean_matrix\n",
    "simmilarity_nom"
   ]
  },
  {
   "cell_type": "markdown",
   "id": "eef76f8e",
   "metadata": {},
   "source": [
    "<p style=\"color:magenta\"> The average simmilarity between two categorical attribute (Marital and Education) of all data-object is <b>0.4068968968968969</b></p>"
   ]
  },
  {
   "cell_type": "markdown",
   "id": "879f9ff4",
   "metadata": {},
   "source": [
    "<h3 style=\"color:purple\">Task 5:Find the similarity using an appropriate measure between any two numeric attributes</h3>"
   ]
  },
  {
   "cell_type": "markdown",
   "id": "3dd0ac9f",
   "metadata": {},
   "source": [
    "<center> <h3 style=\"color:green\"> normalization formula -> dij = |xif - xjf| / max - min</h3></center>"
   ]
  },
  {
   "cell_type": "code",
   "execution_count": 62,
   "id": "7dd2e1b2",
   "metadata": {},
   "outputs": [],
   "source": [
    "max_age=np.max(Customer_Ages)\n",
    "min_age=np.min(Customer_Ages)\n",
    "max_bal=np.max(Customer_Balance)\n",
    "min_bal=np.min(Customer_Balance)"
   ]
  },
  {
   "cell_type": "code",
   "execution_count": 63,
   "id": "e024c045",
   "metadata": {},
   "outputs": [],
   "source": [
    "n_summ=0\n",
    "n_count=0\n",
    "\n",
    "norm_Customer_Ages = np.zeros((1000, 1000))\n",
    "norm_Customer_Balance = np.zeros((1000, 1000))\n",
    "norm_Age_Bal=np.zeros((1000,1000))\n",
    "\n",
    "for i in range(1000):\n",
    "    for j in range(i):\n",
    "        norm_Customer_Ages[i][j]=(abs(Customer_Ages[i]-Customer_Ages[j]))/(max_age-min_age)\n",
    "        \n",
    "        norm_Customer_Balance[i][j]=(abs(Customer_Balance[i]-Customer_Balance[j]))/(max_bal-min_bal)\n",
    "        norm_Age_Bal[i][j]=norm_Customer_Ages[i][j]+norm_Customer_Balance[i][j]\n",
    "        \n",
    "        n_summ+=(norm_Customer_Ages[i][j]+norm_Customer_Balance[i][j])\n",
    "        n_count+=1"
   ]
  },
  {
   "cell_type": "code",
   "execution_count": 64,
   "id": "ce9d72da",
   "metadata": {},
   "outputs": [
    {
     "data": {
      "text/plain": [
       "array([[0.        , 0.        , 0.        , ..., 0.        , 0.        ,\n",
       "        0.        ],\n",
       "       [0.15167514, 0.        , 0.        , ..., 0.        , 0.        ,\n",
       "        0.        ],\n",
       "       [0.09338072, 0.15130586, 0.        , ..., 0.        , 0.        ,\n",
       "        0.        ],\n",
       "       ...,\n",
       "       [0.10138986, 0.159315  , 0.03925914, ..., 0.        , 0.        ,\n",
       "        0.        ],\n",
       "       [0.23057362, 0.28849876, 0.1371929 , ..., 0.12918376, 0.        ,\n",
       "        0.        ],\n",
       "       [0.20847552, 0.36015066, 0.2713448 , ..., 0.23208566, 0.3345981 ,\n",
       "        0.        ]])"
      ]
     },
     "execution_count": 64,
     "metadata": {},
     "output_type": "execute_result"
    }
   ],
   "source": [
    "norm_Age_Bal"
   ]
  },
  {
   "cell_type": "code",
   "execution_count": 65,
   "id": "4614acc8",
   "metadata": {},
   "outputs": [
    {
     "data": {
      "text/plain": [
       "0.26104660522996653"
      ]
     },
     "execution_count": 65,
     "metadata": {},
     "output_type": "execute_result"
    }
   ],
   "source": [
    "n_dis_mean=n_summ/n_count\n",
    "n_dis_mean"
   ]
  },
  {
   "cell_type": "code",
   "execution_count": 66,
   "id": "7045c191",
   "metadata": {},
   "outputs": [
    {
     "data": {
      "text/plain": [
       "0.7389533947700335"
      ]
     },
     "execution_count": 66,
     "metadata": {},
     "output_type": "execute_result"
    }
   ],
   "source": [
    "simmilarity_numeric=1-n_dis_mean\n",
    "simmilarity_numeric"
   ]
  },
  {
   "cell_type": "markdown",
   "id": "f70a007a",
   "metadata": {},
   "source": [
    "<p style=\"color:magenta\"> The average simmilarity between two numeric attribute (Age and Balance) of all data-object is <b>0.7389533947700335</b></p>"
   ]
  },
  {
   "cell_type": "markdown",
   "id": "737dca66",
   "metadata": {},
   "source": [
    "<h4 style=\"color:red\">-----------------------------------------------------------------------------------------------------------------------------------------------------------------------------------------------------------</h4>"
   ]
  },
  {
   "cell_type": "markdown",
   "id": "02f3ebb8",
   "metadata": {},
   "source": [
    "<center><h2 style=\"color:purple\">END OF ASSIGNMENT</h2></center>"
   ]
  },
  {
   "cell_type": "markdown",
   "id": "4a275660",
   "metadata": {},
   "source": [
    "<h4 style=\"color:red\">-----------------------------------------------------------------------------------------------------------------------------------------------------------------------------------------------------------</h4>"
   ]
  },
  {
   "cell_type": "markdown",
   "id": "8118e9dc",
   "metadata": {},
   "source": [
    "<p style=\"color:red\">Tried with Euclidean. Not part of assignment</p>"
   ]
  },
  {
   "cell_type": "code",
   "execution_count": 67,
   "id": "4a64def8",
   "metadata": {},
   "outputs": [],
   "source": [
    "age_bal_simm=np.stack((Customer_Ages,Customer_Balance),axis=1)"
   ]
  },
  {
   "cell_type": "code",
   "execution_count": 68,
   "id": "07786511",
   "metadata": {},
   "outputs": [],
   "source": [
    "summ2=0\n",
    "count2=0\n",
    "dsimm_matrix = np.zeros((1000, 1000))\n",
    "for i in range(1000):\n",
    "    for j in range(i):\n",
    "        dsimm_matrix[i][j] = np.linalg.norm(age_bal_simm[i] - age_bal_simm[j])\n",
    "        summ2+=dsimm_matrix[i][j]\n",
    "        count2+=1"
   ]
  },
  {
   "cell_type": "code",
   "execution_count": 69,
   "id": "1a9ac80c",
   "metadata": {},
   "outputs": [
    {
     "data": {
      "text/plain": [
       "array([[   0.        ,    0.        ,    0.        , ...,    0.        ,\n",
       "           0.        ,    0.        ],\n",
       "       [3002.001499  ,    0.        ,    0.        , ...,    0.        ,\n",
       "           0.        ,    0.        ],\n",
       "       [ 437.02860318, 3439.00058156,    0.        , ...,    0.        ,\n",
       "           0.        ,    0.        ],\n",
       "       ...,\n",
       "       [1114.00718131, 4116.00012148,  677.00073855, ...,    0.        ,\n",
       "           0.        ,    0.        ],\n",
       "       [2129.02348507, 5131.0047749 , 1692.00738769, ..., 1015.01773384,\n",
       "           0.        ,    0.        ],\n",
       "       [1496.03342209, 4498.01878609, 1059.10622697, ...,  382.25645842,\n",
       "         633.31587695,    0.        ]])"
      ]
     },
     "execution_count": 69,
     "metadata": {},
     "output_type": "execute_result"
    }
   ],
   "source": [
    "dsimm_matrix"
   ]
  },
  {
   "cell_type": "code",
   "execution_count": 70,
   "id": "641896bc",
   "metadata": {},
   "outputs": [
    {
     "data": {
      "text/plain": [
       "0.07781001381568167"
      ]
     },
     "execution_count": 70,
     "metadata": {},
     "output_type": "execute_result"
    }
   ],
   "source": [
    "min_val = np.min(dsimm_matrix)\n",
    "max_val = np.max(dsimm_matrix)\n",
    "\n",
    "mean_matrix_num=summ2/count2\n",
    "normalized_disim = (mean_matrix_num - min_val) / (max_val-min_val)\n",
    "\n",
    "normalized_disim"
   ]
  },
  {
   "cell_type": "code",
   "execution_count": 71,
   "id": "331f1fdf",
   "metadata": {},
   "outputs": [
    {
     "data": {
      "text/plain": [
       "0.9221899861843184"
      ]
     },
     "execution_count": 71,
     "metadata": {},
     "output_type": "execute_result"
    }
   ],
   "source": [
    "1-normalized_disim"
   ]
  },
  {
   "cell_type": "code",
   "execution_count": null,
   "id": "c2aac63c",
   "metadata": {},
   "outputs": [],
   "source": []
  }
 ],
 "metadata": {
  "kernelspec": {
   "display_name": "Python 3 (ipykernel)",
   "language": "python",
   "name": "python3"
  },
  "language_info": {
   "codemirror_mode": {
    "name": "ipython",
    "version": 3
   },
   "file_extension": ".py",
   "mimetype": "text/x-python",
   "name": "python",
   "nbconvert_exporter": "python",
   "pygments_lexer": "ipython3",
   "version": "3.10.8"
  }
 },
 "nbformat": 4,
 "nbformat_minor": 5
}
