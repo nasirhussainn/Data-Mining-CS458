{
 "cells": [
  {
   "cell_type": "markdown",
   "id": "b7b9a072",
   "metadata": {},
   "source": [
    "<h4 style=\"color:purple\">Nasir Hussain 04072013040</h4>"
   ]
  },
  {
   "cell_type": "markdown",
   "id": "adb95772",
   "metadata": {},
   "source": [
    "<center>\n",
    "<h3 style=\"color:purple\">Introduction to Data Mining</h3>\n",
    "<h4 style=\"color:purple\">Assignment : 2 </h4>\n",
    "</center>"
   ]
  },
  {
   "cell_type": "code",
   "execution_count": 1,
   "id": "6660f4d2",
   "metadata": {},
   "outputs": [],
   "source": [
    "import pandas as pd\n",
    "import numpy as np\n",
    "import matplotlib.pyplot as plt\n",
    "from apyori import apriori\n",
    "from mlxtend.frequent_patterns import apriori,association_rules"
   ]
  },
  {
   "cell_type": "markdown",
   "id": "2dcf936f",
   "metadata": {},
   "source": [
    "<h3 style=\"color:purple\">Task 1:Load the dataset</h3>"
   ]
  },
  {
   "cell_type": "code",
   "execution_count": 2,
   "id": "c886dc04",
   "metadata": {},
   "outputs": [
    {
     "data": {
      "text/html": [
       "<div>\n",
       "<style scoped>\n",
       "    .dataframe tbody tr th:only-of-type {\n",
       "        vertical-align: middle;\n",
       "    }\n",
       "\n",
       "    .dataframe tbody tr th {\n",
       "        vertical-align: top;\n",
       "    }\n",
       "\n",
       "    .dataframe thead th {\n",
       "        text-align: right;\n",
       "    }\n",
       "</style>\n",
       "<table border=\"1\" class=\"dataframe\">\n",
       "  <thead>\n",
       "    <tr style=\"text-align: right;\">\n",
       "      <th></th>\n",
       "      <th>buying_price</th>\n",
       "      <th>maint_price</th>\n",
       "      <th>doors</th>\n",
       "      <th>persons</th>\n",
       "      <th>lug_boot</th>\n",
       "      <th>safety</th>\n",
       "      <th>carRating</th>\n",
       "    </tr>\n",
       "  </thead>\n",
       "  <tbody>\n",
       "    <tr>\n",
       "      <th>0</th>\n",
       "      <td>vhigh</td>\n",
       "      <td>vhigh</td>\n",
       "      <td>2</td>\n",
       "      <td>2</td>\n",
       "      <td>small</td>\n",
       "      <td>low</td>\n",
       "      <td>unacc</td>\n",
       "    </tr>\n",
       "    <tr>\n",
       "      <th>1</th>\n",
       "      <td>vhigh</td>\n",
       "      <td>vhigh</td>\n",
       "      <td>2</td>\n",
       "      <td>2</td>\n",
       "      <td>small</td>\n",
       "      <td>med</td>\n",
       "      <td>unacc</td>\n",
       "    </tr>\n",
       "    <tr>\n",
       "      <th>2</th>\n",
       "      <td>vhigh</td>\n",
       "      <td>vhigh</td>\n",
       "      <td>2</td>\n",
       "      <td>2</td>\n",
       "      <td>small</td>\n",
       "      <td>high</td>\n",
       "      <td>unacc</td>\n",
       "    </tr>\n",
       "    <tr>\n",
       "      <th>3</th>\n",
       "      <td>vhigh</td>\n",
       "      <td>vhigh</td>\n",
       "      <td>2</td>\n",
       "      <td>2</td>\n",
       "      <td>med</td>\n",
       "      <td>low</td>\n",
       "      <td>unacc</td>\n",
       "    </tr>\n",
       "    <tr>\n",
       "      <th>4</th>\n",
       "      <td>vhigh</td>\n",
       "      <td>vhigh</td>\n",
       "      <td>2</td>\n",
       "      <td>2</td>\n",
       "      <td>med</td>\n",
       "      <td>med</td>\n",
       "      <td>unacc</td>\n",
       "    </tr>\n",
       "  </tbody>\n",
       "</table>\n",
       "</div>"
      ],
      "text/plain": [
       "  buying_price maint_price doors persons lug_boot safety carRating\n",
       "0        vhigh       vhigh     2       2    small    low     unacc\n",
       "1        vhigh       vhigh     2       2    small    med     unacc\n",
       "2        vhigh       vhigh     2       2    small   high     unacc\n",
       "3        vhigh       vhigh     2       2      med    low     unacc\n",
       "4        vhigh       vhigh     2       2      med    med     unacc"
      ]
     },
     "execution_count": 2,
     "metadata": {},
     "output_type": "execute_result"
    }
   ],
   "source": [
    "data=pd.read_csv(\"Car Evaluation.csv\")\n",
    "data.head()"
   ]
  },
  {
   "cell_type": "markdown",
   "id": "c5e1309b",
   "metadata": {},
   "source": [
    "<h3 style=\"color:orange\">Data Preprocessing</h3>"
   ]
  },
  {
   "cell_type": "code",
   "execution_count": 3,
   "id": "0563e8a6",
   "metadata": {},
   "outputs": [
    {
     "data": {
      "text/plain": [
       "buying_price    0\n",
       "maint_price     0\n",
       "doors           0\n",
       "persons         0\n",
       "lug_boot        0\n",
       "safety          0\n",
       "carRating       0\n",
       "dtype: int64"
      ]
     },
     "execution_count": 3,
     "metadata": {},
     "output_type": "execute_result"
    }
   ],
   "source": [
    "data.isnull().sum()"
   ]
  },
  {
   "cell_type": "code",
   "execution_count": 4,
   "id": "c99e5e37",
   "metadata": {},
   "outputs": [
    {
     "data": {
      "image/png": "[encoded data removed]",
      "text/plain": [
       "<Figure size 640x480 with 1 Axes>"
      ]
     },
     "metadata": {},
     "output_type": "display_data"
    }
   ],
   "source": [
    "bwidth=0.6\n",
    "plt.style.use('dark_background')\n",
    "with plt.style.context('dark_background'):\n",
    "    bins = np.linspace(0, 4, 16)\n",
    "    plt.hist(data['carRating'],width=bwidth,color='cyan', edgecolor='crimson', linewidth=1.2, bins=bins,align=\"left\")\n",
    "    plt.xlabel('CarAccRating')\n",
    "    plt.ylabel('Frequency')\n",
    "    plt.title('CarAccRating')\n",
    "    plt.show()\n"
   ]
  },
  {
   "cell_type": "code",
   "execution_count": 5,
   "id": "7591d9db",
   "metadata": {
    "scrolled": true
   },
   "outputs": [
    {
     "data": {
      "text/plain": [
       "array(['acc'], dtype=object)"
      ]
     },
     "execution_count": 5,
     "metadata": {},
     "output_type": "execute_result"
    }
   ],
   "source": [
    "data1=data[data['carRating']=='acc']\n",
    "data1a=data[data['carRating']=='unacc']\n",
    "data1.carRating.unique()"
   ]
  },
  {
   "cell_type": "code",
   "execution_count": 6,
   "id": "f403d07b",
   "metadata": {},
   "outputs": [
    {
     "name": "stdout",
     "output_type": "stream",
     "text": [
      "<class 'pandas.core.frame.DataFrame'>\n",
      "Int64Index: 384 entries, 227 to 1720\n",
      "Data columns (total 7 columns):\n",
      " #   Column        Non-Null Count  Dtype \n",
      "---  ------        --------------  ----- \n",
      " 0   buying_price  384 non-null    object\n",
      " 1   maint_price   384 non-null    object\n",
      " 2   doors         384 non-null    object\n",
      " 3   persons       384 non-null    object\n",
      " 4   lug_boot      384 non-null    object\n",
      " 5   safety        384 non-null    object\n",
      " 6   carRating     384 non-null    object\n",
      "dtypes: object(7)\n",
      "memory usage: 24.0+ KB\n"
     ]
    }
   ],
   "source": [
    "data1.info()"
   ]
  },
  {
   "cell_type": "code",
   "execution_count": 40,
   "id": "91963904",
   "metadata": {
    "scrolled": true
   },
   "outputs": [
    {
     "data": {
      "text/html": [
       "<div>\n",
       "<style scoped>\n",
       "    .dataframe tbody tr th:only-of-type {\n",
       "        vertical-align: middle;\n",
       "    }\n",
       "\n",
       "    .dataframe tbody tr th {\n",
       "        vertical-align: top;\n",
       "    }\n",
       "\n",
       "    .dataframe thead th {\n",
       "        text-align: right;\n",
       "    }\n",
       "</style>\n",
       "<table border=\"1\" class=\"dataframe\">\n",
       "  <thead>\n",
       "    <tr style=\"text-align: right;\">\n",
       "      <th></th>\n",
       "      <th>buying_price</th>\n",
       "      <th>maint_price</th>\n",
       "      <th>doors</th>\n",
       "      <th>persons</th>\n",
       "      <th>lug_boot</th>\n",
       "      <th>safety</th>\n",
       "    </tr>\n",
       "  </thead>\n",
       "  <tbody>\n",
       "    <tr>\n",
       "      <th>227</th>\n",
       "      <td>vhigh</td>\n",
       "      <td>med</td>\n",
       "      <td>2</td>\n",
       "      <td>4</td>\n",
       "      <td>small</td>\n",
       "      <td>high</td>\n",
       "    </tr>\n",
       "  </tbody>\n",
       "</table>\n",
       "</div>"
      ],
      "text/plain": [
       "    buying_price maint_price doors persons lug_boot safety\n",
       "227        vhigh         med     2       4    small   high"
      ]
     },
     "execution_count": 40,
     "metadata": {},
     "output_type": "execute_result"
    }
   ],
   "source": [
    "data2=data1.drop(columns=['carRating'])\n",
    "data2a=data1a.drop(columns=['carRating'])\n",
    "data2.head(1)"
   ]
  },
  {
   "cell_type": "code",
   "execution_count": 38,
   "id": "488416c6",
   "metadata": {},
   "outputs": [
    {
     "data": {
      "text/html": [
       "<div>\n",
       "<style scoped>\n",
       "    .dataframe tbody tr th:only-of-type {\n",
       "        vertical-align: middle;\n",
       "    }\n",
       "\n",
       "    .dataframe tbody tr th {\n",
       "        vertical-align: top;\n",
       "    }\n",
       "\n",
       "    .dataframe thead th {\n",
       "        text-align: right;\n",
       "    }\n",
       "</style>\n",
       "<table border=\"1\" class=\"dataframe\">\n",
       "  <thead>\n",
       "    <tr style=\"text-align: right;\">\n",
       "      <th></th>\n",
       "      <th>buying_price_high</th>\n",
       "      <th>buying_price_low</th>\n",
       "      <th>buying_price_med</th>\n",
       "      <th>buying_price_vhigh</th>\n",
       "      <th>maint_price_high</th>\n",
       "      <th>maint_price_low</th>\n",
       "      <th>maint_price_med</th>\n",
       "      <th>maint_price_vhigh</th>\n",
       "      <th>doors_2</th>\n",
       "      <th>doors_3</th>\n",
       "      <th>doors_4</th>\n",
       "      <th>doors_5more</th>\n",
       "      <th>persons_4</th>\n",
       "      <th>persons_more</th>\n",
       "      <th>lug_boot_big</th>\n",
       "      <th>lug_boot_med</th>\n",
       "      <th>lug_boot_small</th>\n",
       "      <th>safety_high</th>\n",
       "      <th>safety_med</th>\n",
       "    </tr>\n",
       "  </thead>\n",
       "  <tbody>\n",
       "    <tr>\n",
       "      <th>227</th>\n",
       "      <td>0</td>\n",
       "      <td>0</td>\n",
       "      <td>0</td>\n",
       "      <td>1</td>\n",
       "      <td>0</td>\n",
       "      <td>0</td>\n",
       "      <td>1</td>\n",
       "      <td>0</td>\n",
       "      <td>1</td>\n",
       "      <td>0</td>\n",
       "      <td>0</td>\n",
       "      <td>0</td>\n",
       "      <td>1</td>\n",
       "      <td>0</td>\n",
       "      <td>0</td>\n",
       "      <td>0</td>\n",
       "      <td>1</td>\n",
       "      <td>1</td>\n",
       "      <td>0</td>\n",
       "    </tr>\n",
       "  </tbody>\n",
       "</table>\n",
       "</div>"
      ],
      "text/plain": [
       "     buying_price_high  buying_price_low  buying_price_med  \\\n",
       "227                  0                 0                 0   \n",
       "\n",
       "     buying_price_vhigh  maint_price_high  maint_price_low  maint_price_med  \\\n",
       "227                   1                 0                0                1   \n",
       "\n",
       "     maint_price_vhigh  doors_2  doors_3  doors_4  doors_5more  persons_4  \\\n",
       "227                  0        1        0        0            0          1   \n",
       "\n",
       "     persons_more  lug_boot_big  lug_boot_med  lug_boot_small  safety_high  \\\n",
       "227             0             0             0               1            1   \n",
       "\n",
       "     safety_med  \n",
       "227           0  "
      ]
     },
     "execution_count": 38,
     "metadata": {},
     "output_type": "execute_result"
    }
   ],
   "source": [
    "data3=pd.get_dummies(data2)\n",
    "data3a=pd.get_dummies(data2a)\n",
    "data3.head(1)"
   ]
  },
  {
   "cell_type": "markdown",
   "id": "0b2c3a18",
   "metadata": {},
   "source": [
    "<h3 style=\"color:purple\">Task 2:Set a value of support,confidece,lift</h3>"
   ]
  },
  {
   "cell_type": "markdown",
   "id": "43364390",
   "metadata": {},
   "source": [
    "<p style=\"color:orchid\"><b>Support, confidence and lift parameter will be set in apriori() and association_rule()</b></p>"
   ]
  },
  {
   "cell_type": "markdown",
   "id": "dce11ffa",
   "metadata": {},
   "source": [
    "<center><h1 style=\"color:goldenrod\">For CarRating=ACCEPT</h1></center>"
   ]
  },
  {
   "cell_type": "markdown",
   "id": "5b0de5cf",
   "metadata": {},
   "source": [
    "<h3 style=\"color:purple\">Task 3:Find frequent Itemset</h3>"
   ]
  },
  {
   "cell_type": "markdown",
   "id": "3d7667c8",
   "metadata": {},
   "source": [
    "<h3 style=\"color:orange\">Apriori Algorithm - mlxtend apriori()</h3>"
   ]
  },
  {
   "cell_type": "code",
   "execution_count": 31,
   "id": "0137bd8f",
   "metadata": {},
   "outputs": [
    {
     "data": {
      "text/html": [
       "<div>\n",
       "<style scoped>\n",
       "    .dataframe tbody tr th:only-of-type {\n",
       "        vertical-align: middle;\n",
       "    }\n",
       "\n",
       "    .dataframe tbody tr th {\n",
       "        vertical-align: top;\n",
       "    }\n",
       "\n",
       "    .dataframe thead th {\n",
       "        text-align: right;\n",
       "    }\n",
       "</style>\n",
       "<table border=\"1\" class=\"dataframe\">\n",
       "  <thead>\n",
       "    <tr style=\"text-align: right;\">\n",
       "      <th></th>\n",
       "      <th>buying_price_high</th>\n",
       "      <th>buying_price_low</th>\n",
       "      <th>buying_price_med</th>\n",
       "      <th>buying_price_vhigh</th>\n",
       "      <th>maint_price_high</th>\n",
       "      <th>maint_price_low</th>\n",
       "      <th>maint_price_med</th>\n",
       "      <th>maint_price_vhigh</th>\n",
       "      <th>doors_2</th>\n",
       "      <th>doors_3</th>\n",
       "      <th>doors_4</th>\n",
       "      <th>doors_5more</th>\n",
       "      <th>persons_4</th>\n",
       "      <th>persons_more</th>\n",
       "      <th>lug_boot_big</th>\n",
       "      <th>lug_boot_med</th>\n",
       "      <th>lug_boot_small</th>\n",
       "      <th>safety_high</th>\n",
       "      <th>safety_med</th>\n",
       "    </tr>\n",
       "  </thead>\n",
       "  <tbody>\n",
       "    <tr>\n",
       "      <th>227</th>\n",
       "      <td>0</td>\n",
       "      <td>0</td>\n",
       "      <td>0</td>\n",
       "      <td>1</td>\n",
       "      <td>0</td>\n",
       "      <td>0</td>\n",
       "      <td>1</td>\n",
       "      <td>0</td>\n",
       "      <td>1</td>\n",
       "      <td>0</td>\n",
       "      <td>0</td>\n",
       "      <td>0</td>\n",
       "      <td>1</td>\n",
       "      <td>0</td>\n",
       "      <td>0</td>\n",
       "      <td>0</td>\n",
       "      <td>1</td>\n",
       "      <td>1</td>\n",
       "      <td>0</td>\n",
       "    </tr>\n",
       "    <tr>\n",
       "      <th>230</th>\n",
       "      <td>0</td>\n",
       "      <td>0</td>\n",
       "      <td>0</td>\n",
       "      <td>1</td>\n",
       "      <td>0</td>\n",
       "      <td>0</td>\n",
       "      <td>1</td>\n",
       "      <td>0</td>\n",
       "      <td>1</td>\n",
       "      <td>0</td>\n",
       "      <td>0</td>\n",
       "      <td>0</td>\n",
       "      <td>1</td>\n",
       "      <td>0</td>\n",
       "      <td>0</td>\n",
       "      <td>1</td>\n",
       "      <td>0</td>\n",
       "      <td>1</td>\n",
       "      <td>0</td>\n",
       "    </tr>\n",
       "    <tr>\n",
       "      <th>232</th>\n",
       "      <td>0</td>\n",
       "      <td>0</td>\n",
       "      <td>0</td>\n",
       "      <td>1</td>\n",
       "      <td>0</td>\n",
       "      <td>0</td>\n",
       "      <td>1</td>\n",
       "      <td>0</td>\n",
       "      <td>1</td>\n",
       "      <td>0</td>\n",
       "      <td>0</td>\n",
       "      <td>0</td>\n",
       "      <td>1</td>\n",
       "      <td>0</td>\n",
       "      <td>1</td>\n",
       "      <td>0</td>\n",
       "      <td>0</td>\n",
       "      <td>0</td>\n",
       "      <td>1</td>\n",
       "    </tr>\n",
       "    <tr>\n",
       "      <th>233</th>\n",
       "      <td>0</td>\n",
       "      <td>0</td>\n",
       "      <td>0</td>\n",
       "      <td>1</td>\n",
       "      <td>0</td>\n",
       "      <td>0</td>\n",
       "      <td>1</td>\n",
       "      <td>0</td>\n",
       "      <td>1</td>\n",
       "      <td>0</td>\n",
       "      <td>0</td>\n",
       "      <td>0</td>\n",
       "      <td>1</td>\n",
       "      <td>0</td>\n",
       "      <td>1</td>\n",
       "      <td>0</td>\n",
       "      <td>0</td>\n",
       "      <td>1</td>\n",
       "      <td>0</td>\n",
       "    </tr>\n",
       "    <tr>\n",
       "      <th>239</th>\n",
       "      <td>0</td>\n",
       "      <td>0</td>\n",
       "      <td>0</td>\n",
       "      <td>1</td>\n",
       "      <td>0</td>\n",
       "      <td>0</td>\n",
       "      <td>1</td>\n",
       "      <td>0</td>\n",
       "      <td>1</td>\n",
       "      <td>0</td>\n",
       "      <td>0</td>\n",
       "      <td>0</td>\n",
       "      <td>0</td>\n",
       "      <td>1</td>\n",
       "      <td>0</td>\n",
       "      <td>1</td>\n",
       "      <td>0</td>\n",
       "      <td>1</td>\n",
       "      <td>0</td>\n",
       "    </tr>\n",
       "  </tbody>\n",
       "</table>\n",
       "</div>"
      ],
      "text/plain": [
       "     buying_price_high  buying_price_low  buying_price_med  \\\n",
       "227                  0                 0                 0   \n",
       "230                  0                 0                 0   \n",
       "232                  0                 0                 0   \n",
       "233                  0                 0                 0   \n",
       "239                  0                 0                 0   \n",
       "\n",
       "     buying_price_vhigh  maint_price_high  maint_price_low  maint_price_med  \\\n",
       "227                   1                 0                0                1   \n",
       "230                   1                 0                0                1   \n",
       "232                   1                 0                0                1   \n",
       "233                   1                 0                0                1   \n",
       "239                   1                 0                0                1   \n",
       "\n",
       "     maint_price_vhigh  doors_2  doors_3  doors_4  doors_5more  persons_4  \\\n",
       "227                  0        1        0        0            0          1   \n",
       "230                  0        1        0        0            0          1   \n",
       "232                  0        1        0        0            0          1   \n",
       "233                  0        1        0        0            0          1   \n",
       "239                  0        1        0        0            0          0   \n",
       "\n",
       "     persons_more  lug_boot_big  lug_boot_med  lug_boot_small  safety_high  \\\n",
       "227             0             0             0               1            1   \n",
       "230             0             0             1               0            1   \n",
       "232             0             1             0               0            0   \n",
       "233             0             1             0               0            1   \n",
       "239             1             0             1               0            1   \n",
       "\n",
       "     safety_med  \n",
       "227           0  \n",
       "230           0  \n",
       "232           1  \n",
       "233           0  \n",
       "239           0  "
      ]
     },
     "execution_count": 31,
     "metadata": {},
     "output_type": "execute_result"
    }
   ],
   "source": [
    "data3.head()"
   ]
  },
  {
   "cell_type": "code",
   "execution_count": 32,
   "id": "1ba6104c",
   "metadata": {},
   "outputs": [
    {
     "name": "stderr",
     "output_type": "stream",
     "text": [
      "C:\\Python310\\lib\\site-packages\\mlxtend-0.22.0-py3.10.egg\\mlxtend\\frequent_patterns\\fpcommon.py:110: DeprecationWarning: DataFrames with non-bool types result in worse computationalperformance and their support might be discontinued in the future.Please use a DataFrame with bool type\n",
      "  warnings.warn(\n"
     ]
    },
    {
     "data": {
      "text/html": [
       "<div>\n",
       "<style scoped>\n",
       "    .dataframe tbody tr th:only-of-type {\n",
       "        vertical-align: middle;\n",
       "    }\n",
       "\n",
       "    .dataframe tbody tr th {\n",
       "        vertical-align: top;\n",
       "    }\n",
       "\n",
       "    .dataframe thead th {\n",
       "        text-align: right;\n",
       "    }\n",
       "</style>\n",
       "<table border=\"1\" class=\"dataframe\">\n",
       "  <thead>\n",
       "    <tr style=\"text-align: right;\">\n",
       "      <th></th>\n",
       "      <th>support</th>\n",
       "      <th>itemsets</th>\n",
       "    </tr>\n",
       "  </thead>\n",
       "  <tbody>\n",
       "    <tr>\n",
       "      <th>17</th>\n",
       "      <td>0.531250</td>\n",
       "      <td>(safety_high)</td>\n",
       "    </tr>\n",
       "    <tr>\n",
       "      <th>12</th>\n",
       "      <td>0.515625</td>\n",
       "      <td>(persons_4)</td>\n",
       "    </tr>\n",
       "    <tr>\n",
       "      <th>13</th>\n",
       "      <td>0.484375</td>\n",
       "      <td>(persons_more)</td>\n",
       "    </tr>\n",
       "    <tr>\n",
       "      <th>18</th>\n",
       "      <td>0.468750</td>\n",
       "      <td>(safety_med)</td>\n",
       "    </tr>\n",
       "    <tr>\n",
       "      <th>14</th>\n",
       "      <td>0.375000</td>\n",
       "      <td>(lug_boot_big)</td>\n",
       "    </tr>\n",
       "    <tr>\n",
       "      <th>...</th>\n",
       "      <td>...</td>\n",
       "      <td>...</td>\n",
       "    </tr>\n",
       "    <tr>\n",
       "      <th>80</th>\n",
       "      <td>0.104167</td>\n",
       "      <td>(lug_boot_big, safety_med, persons_4)</td>\n",
       "    </tr>\n",
       "    <tr>\n",
       "      <th>81</th>\n",
       "      <td>0.104167</td>\n",
       "      <td>(safety_high, persons_4, lug_boot_small)</td>\n",
       "    </tr>\n",
       "    <tr>\n",
       "      <th>82</th>\n",
       "      <td>0.104167</td>\n",
       "      <td>(lug_boot_big, safety_med, persons_more)</td>\n",
       "    </tr>\n",
       "    <tr>\n",
       "      <th>24</th>\n",
       "      <td>0.101562</td>\n",
       "      <td>(buying_price_high, safety_med)</td>\n",
       "    </tr>\n",
       "    <tr>\n",
       "      <th>22</th>\n",
       "      <td>0.101562</td>\n",
       "      <td>(lug_boot_med, buying_price_high)</td>\n",
       "    </tr>\n",
       "  </tbody>\n",
       "</table>\n",
       "<p>83 rows × 2 columns</p>\n",
       "</div>"
      ],
      "text/plain": [
       "     support                                  itemsets\n",
       "17  0.531250                             (safety_high)\n",
       "12  0.515625                               (persons_4)\n",
       "13  0.484375                            (persons_more)\n",
       "18  0.468750                              (safety_med)\n",
       "14  0.375000                            (lug_boot_big)\n",
       "..       ...                                       ...\n",
       "80  0.104167     (lug_boot_big, safety_med, persons_4)\n",
       "81  0.104167  (safety_high, persons_4, lug_boot_small)\n",
       "82  0.104167  (lug_boot_big, safety_med, persons_more)\n",
       "24  0.101562           (buying_price_high, safety_med)\n",
       "22  0.101562         (lug_boot_med, buying_price_high)\n",
       "\n",
       "[83 rows x 2 columns]"
      ]
     },
     "execution_count": 32,
     "metadata": {},
     "output_type": "execute_result"
    }
   ],
   "source": [
    "fItems = apriori(data3, min_support=0.1, use_colnames=True)\n",
    "fItems = fItems.sort_values(by='support', ascending=False)\n",
    "fItems"
   ]
  },
  {
   "cell_type": "markdown",
   "id": "ebfbe236",
   "metadata": {},
   "source": [
    "<h3 style=\"color:purple\">Task 4:Find Strong Association Rule</h3>"
   ]
  },
  {
   "cell_type": "markdown",
   "id": "f6d11a1a",
   "metadata": {},
   "source": [
    "<h3 style=\"color:orange\">Association Rule Mining - mlxtend association_rule()</h3>"
   ]
  },
  {
   "cell_type": "code",
   "execution_count": 43,
   "id": "eab595fe",
   "metadata": {
    "scrolled": true
   },
   "outputs": [
    {
     "data": {
      "text/html": [
       "<div>\n",
       "<style scoped>\n",
       "    .dataframe tbody tr th:only-of-type {\n",
       "        vertical-align: middle;\n",
       "    }\n",
       "\n",
       "    .dataframe tbody tr th {\n",
       "        vertical-align: top;\n",
       "    }\n",
       "\n",
       "    .dataframe thead th {\n",
       "        text-align: right;\n",
       "    }\n",
       "</style>\n",
       "<table border=\"1\" class=\"dataframe\">\n",
       "  <thead>\n",
       "    <tr style=\"text-align: right;\">\n",
       "      <th></th>\n",
       "      <th>antecedents</th>\n",
       "      <th>consequents</th>\n",
       "      <th>antecedent support</th>\n",
       "      <th>consequent support</th>\n",
       "      <th>support</th>\n",
       "      <th>confidence</th>\n",
       "      <th>lift</th>\n",
       "      <th>leverage</th>\n",
       "      <th>conviction</th>\n",
       "      <th>zhangs_metric</th>\n",
       "    </tr>\n",
       "  </thead>\n",
       "  <tbody>\n",
       "    <tr>\n",
       "      <th>0</th>\n",
       "      <td>(lug_boot_small)</td>\n",
       "      <td>(safety_high)</td>\n",
       "      <td>0.273438</td>\n",
       "      <td>0.53125</td>\n",
       "      <td>0.182292</td>\n",
       "      <td>0.666667</td>\n",
       "      <td>1.254902</td>\n",
       "      <td>0.037028</td>\n",
       "      <td>1.40625</td>\n",
       "      <td>0.279570</td>\n",
       "    </tr>\n",
       "    <tr>\n",
       "      <th>1</th>\n",
       "      <td>(persons_4, lug_boot_small)</td>\n",
       "      <td>(safety_high)</td>\n",
       "      <td>0.156250</td>\n",
       "      <td>0.53125</td>\n",
       "      <td>0.104167</td>\n",
       "      <td>0.666667</td>\n",
       "      <td>1.254902</td>\n",
       "      <td>0.021159</td>\n",
       "      <td>1.40625</td>\n",
       "      <td>0.240741</td>\n",
       "    </tr>\n",
       "  </tbody>\n",
       "</table>\n",
       "</div>"
      ],
      "text/plain": [
       "                   antecedents    consequents  antecedent support  \\\n",
       "0             (lug_boot_small)  (safety_high)            0.273438   \n",
       "1  (persons_4, lug_boot_small)  (safety_high)            0.156250   \n",
       "\n",
       "   consequent support   support  confidence      lift  leverage  conviction  \\\n",
       "0             0.53125  0.182292    0.666667  1.254902  0.037028     1.40625   \n",
       "1             0.53125  0.104167    0.666667  1.254902  0.021159     1.40625   \n",
       "\n",
       "   zhangs_metric  \n",
       "0       0.279570  \n",
       "1       0.240741  "
      ]
     },
     "execution_count": 43,
     "metadata": {},
     "output_type": "execute_result"
    }
   ],
   "source": [
    "fItemRules = association_rules(fItems, metric=\"confidence\", min_threshold=0.65)\n",
    "fItemRules = fItemRules[fItemRules[\"lift\"] > 1.25]\n",
    "fItemRules"
   ]
  },
  {
   "cell_type": "code",
   "execution_count": 44,
   "id": "92a5dcf9",
   "metadata": {},
   "outputs": [
    {
     "data": {
      "text/html": [
       "<div>\n",
       "<style scoped>\n",
       "    .dataframe tbody tr th:only-of-type {\n",
       "        vertical-align: middle;\n",
       "    }\n",
       "\n",
       "    .dataframe tbody tr th {\n",
       "        vertical-align: top;\n",
       "    }\n",
       "\n",
       "    .dataframe thead th {\n",
       "        text-align: right;\n",
       "    }\n",
       "</style>\n",
       "<table border=\"1\" class=\"dataframe\">\n",
       "  <thead>\n",
       "    <tr style=\"text-align: right;\">\n",
       "      <th></th>\n",
       "      <th>antecedents</th>\n",
       "      <th>consequents</th>\n",
       "      <th>antecedent support</th>\n",
       "      <th>consequent support</th>\n",
       "      <th>support</th>\n",
       "      <th>confidence</th>\n",
       "      <th>lift</th>\n",
       "      <th>leverage</th>\n",
       "      <th>conviction</th>\n",
       "      <th>zhangs_metric</th>\n",
       "    </tr>\n",
       "  </thead>\n",
       "  <tbody>\n",
       "    <tr>\n",
       "      <th>1</th>\n",
       "      <td>(persons_4, lug_boot_small)</td>\n",
       "      <td>(safety_high)</td>\n",
       "      <td>0.156250</td>\n",
       "      <td>0.53125</td>\n",
       "      <td>0.104167</td>\n",
       "      <td>0.666667</td>\n",
       "      <td>1.254902</td>\n",
       "      <td>0.021159</td>\n",
       "      <td>1.40625</td>\n",
       "      <td>0.240741</td>\n",
       "    </tr>\n",
       "    <tr>\n",
       "      <th>0</th>\n",
       "      <td>(lug_boot_small)</td>\n",
       "      <td>(safety_high)</td>\n",
       "      <td>0.273438</td>\n",
       "      <td>0.53125</td>\n",
       "      <td>0.182292</td>\n",
       "      <td>0.666667</td>\n",
       "      <td>1.254902</td>\n",
       "      <td>0.037028</td>\n",
       "      <td>1.40625</td>\n",
       "      <td>0.279570</td>\n",
       "    </tr>\n",
       "  </tbody>\n",
       "</table>\n",
       "</div>"
      ],
      "text/plain": [
       "                   antecedents    consequents  antecedent support  \\\n",
       "1  (persons_4, lug_boot_small)  (safety_high)            0.156250   \n",
       "0             (lug_boot_small)  (safety_high)            0.273438   \n",
       "\n",
       "   consequent support   support  confidence      lift  leverage  conviction  \\\n",
       "1             0.53125  0.104167    0.666667  1.254902  0.021159     1.40625   \n",
       "0             0.53125  0.182292    0.666667  1.254902  0.037028     1.40625   \n",
       "\n",
       "   zhangs_metric  \n",
       "1       0.240741  \n",
       "0       0.279570  "
      ]
     },
     "execution_count": 44,
     "metadata": {},
     "output_type": "execute_result"
    }
   ],
   "source": [
    "strongAsscRules = fItemRules.sort_values(by=['confidence','lift','support'], ascending=[False, False, False])\n",
    "strongAsscRules"
   ]
  },
  {
   "cell_type": "markdown",
   "id": "99638ca1",
   "metadata": {},
   "source": [
    "<br>"
   ]
  },
  {
   "cell_type": "markdown",
   "id": "7b00ae10",
   "metadata": {},
   "source": [
    "<center><h1 style=\"color:goldenrod\">For CarRating=UNACCEPT</h1></center>"
   ]
  },
  {
   "cell_type": "code",
   "execution_count": 45,
   "id": "d1f6eee5",
   "metadata": {},
   "outputs": [
    {
     "data": {
      "text/html": [
       "<div>\n",
       "<style scoped>\n",
       "    .dataframe tbody tr th:only-of-type {\n",
       "        vertical-align: middle;\n",
       "    }\n",
       "\n",
       "    .dataframe tbody tr th {\n",
       "        vertical-align: top;\n",
       "    }\n",
       "\n",
       "    .dataframe thead th {\n",
       "        text-align: right;\n",
       "    }\n",
       "</style>\n",
       "<table border=\"1\" class=\"dataframe\">\n",
       "  <thead>\n",
       "    <tr style=\"text-align: right;\">\n",
       "      <th></th>\n",
       "      <th>buying_price_high</th>\n",
       "      <th>buying_price_low</th>\n",
       "      <th>buying_price_med</th>\n",
       "      <th>buying_price_vhigh</th>\n",
       "      <th>maint_price_high</th>\n",
       "      <th>maint_price_low</th>\n",
       "      <th>maint_price_med</th>\n",
       "      <th>maint_price_vhigh</th>\n",
       "      <th>doors_2</th>\n",
       "      <th>doors_3</th>\n",
       "      <th>...</th>\n",
       "      <th>doors_5more</th>\n",
       "      <th>persons_2</th>\n",
       "      <th>persons_4</th>\n",
       "      <th>persons_more</th>\n",
       "      <th>lug_boot_big</th>\n",
       "      <th>lug_boot_med</th>\n",
       "      <th>lug_boot_small</th>\n",
       "      <th>safety_high</th>\n",
       "      <th>safety_low</th>\n",
       "      <th>safety_med</th>\n",
       "    </tr>\n",
       "  </thead>\n",
       "  <tbody>\n",
       "    <tr>\n",
       "      <th>0</th>\n",
       "      <td>0</td>\n",
       "      <td>0</td>\n",
       "      <td>0</td>\n",
       "      <td>1</td>\n",
       "      <td>0</td>\n",
       "      <td>0</td>\n",
       "      <td>0</td>\n",
       "      <td>1</td>\n",
       "      <td>1</td>\n",
       "      <td>0</td>\n",
       "      <td>...</td>\n",
       "      <td>0</td>\n",
       "      <td>1</td>\n",
       "      <td>0</td>\n",
       "      <td>0</td>\n",
       "      <td>0</td>\n",
       "      <td>0</td>\n",
       "      <td>1</td>\n",
       "      <td>0</td>\n",
       "      <td>1</td>\n",
       "      <td>0</td>\n",
       "    </tr>\n",
       "    <tr>\n",
       "      <th>1</th>\n",
       "      <td>0</td>\n",
       "      <td>0</td>\n",
       "      <td>0</td>\n",
       "      <td>1</td>\n",
       "      <td>0</td>\n",
       "      <td>0</td>\n",
       "      <td>0</td>\n",
       "      <td>1</td>\n",
       "      <td>1</td>\n",
       "      <td>0</td>\n",
       "      <td>...</td>\n",
       "      <td>0</td>\n",
       "      <td>1</td>\n",
       "      <td>0</td>\n",
       "      <td>0</td>\n",
       "      <td>0</td>\n",
       "      <td>0</td>\n",
       "      <td>1</td>\n",
       "      <td>0</td>\n",
       "      <td>0</td>\n",
       "      <td>1</td>\n",
       "    </tr>\n",
       "    <tr>\n",
       "      <th>2</th>\n",
       "      <td>0</td>\n",
       "      <td>0</td>\n",
       "      <td>0</td>\n",
       "      <td>1</td>\n",
       "      <td>0</td>\n",
       "      <td>0</td>\n",
       "      <td>0</td>\n",
       "      <td>1</td>\n",
       "      <td>1</td>\n",
       "      <td>0</td>\n",
       "      <td>...</td>\n",
       "      <td>0</td>\n",
       "      <td>1</td>\n",
       "      <td>0</td>\n",
       "      <td>0</td>\n",
       "      <td>0</td>\n",
       "      <td>0</td>\n",
       "      <td>1</td>\n",
       "      <td>1</td>\n",
       "      <td>0</td>\n",
       "      <td>0</td>\n",
       "    </tr>\n",
       "  </tbody>\n",
       "</table>\n",
       "<p>3 rows × 21 columns</p>\n",
       "</div>"
      ],
      "text/plain": [
       "   buying_price_high  buying_price_low  buying_price_med  buying_price_vhigh  \\\n",
       "0                  0                 0                 0                   1   \n",
       "1                  0                 0                 0                   1   \n",
       "2                  0                 0                 0                   1   \n",
       "\n",
       "   maint_price_high  maint_price_low  maint_price_med  maint_price_vhigh  \\\n",
       "0                 0                0                0                  1   \n",
       "1                 0                0                0                  1   \n",
       "2                 0                0                0                  1   \n",
       "\n",
       "   doors_2  doors_3  ...  doors_5more  persons_2  persons_4  persons_more  \\\n",
       "0        1        0  ...            0          1          0             0   \n",
       "1        1        0  ...            0          1          0             0   \n",
       "2        1        0  ...            0          1          0             0   \n",
       "\n",
       "   lug_boot_big  lug_boot_med  lug_boot_small  safety_high  safety_low  \\\n",
       "0             0             0               1            0           1   \n",
       "1             0             0               1            0           0   \n",
       "2             0             0               1            1           0   \n",
       "\n",
       "   safety_med  \n",
       "0           0  \n",
       "1           1  \n",
       "2           0  \n",
       "\n",
       "[3 rows x 21 columns]"
      ]
     },
     "execution_count": 45,
     "metadata": {},
     "output_type": "execute_result"
    }
   ],
   "source": [
    "data3a.head(3)"
   ]
  },
  {
   "cell_type": "code",
   "execution_count": 46,
   "id": "2ef21dac",
   "metadata": {
    "scrolled": true
   },
   "outputs": [
    {
     "name": "stderr",
     "output_type": "stream",
     "text": [
      "C:\\Python310\\lib\\site-packages\\mlxtend-0.22.0-py3.10.egg\\mlxtend\\frequent_patterns\\fpcommon.py:110: DeprecationWarning: DataFrames with non-bool types result in worse computationalperformance and their support might be discontinued in the future.Please use a DataFrame with bool type\n",
      "  warnings.warn(\n"
     ]
    },
    {
     "data": {
      "text/html": [
       "<div>\n",
       "<style scoped>\n",
       "    .dataframe tbody tr th:only-of-type {\n",
       "        vertical-align: middle;\n",
       "    }\n",
       "\n",
       "    .dataframe tbody tr th {\n",
       "        vertical-align: top;\n",
       "    }\n",
       "\n",
       "    .dataframe thead th {\n",
       "        text-align: right;\n",
       "    }\n",
       "</style>\n",
       "<table border=\"1\" class=\"dataframe\">\n",
       "  <thead>\n",
       "    <tr style=\"text-align: right;\">\n",
       "      <th></th>\n",
       "      <th>antecedents</th>\n",
       "      <th>consequents</th>\n",
       "      <th>antecedent support</th>\n",
       "      <th>consequent support</th>\n",
       "      <th>support</th>\n",
       "      <th>confidence</th>\n",
       "      <th>lift</th>\n",
       "      <th>leverage</th>\n",
       "      <th>conviction</th>\n",
       "      <th>zhangs_metric</th>\n",
       "    </tr>\n",
       "  </thead>\n",
       "  <tbody>\n",
       "    <tr>\n",
       "      <th>0</th>\n",
       "      <td>(safety_high)</td>\n",
       "      <td>(persons_2)</td>\n",
       "      <td>0.228926</td>\n",
       "      <td>0.476033</td>\n",
       "      <td>0.158678</td>\n",
       "      <td>0.693141</td>\n",
       "      <td>1.456077</td>\n",
       "      <td>0.049702</td>\n",
       "      <td>1.707516</td>\n",
       "      <td>0.406217</td>\n",
       "    </tr>\n",
       "    <tr>\n",
       "      <th>1</th>\n",
       "      <td>(persons_4)</td>\n",
       "      <td>(safety_low)</td>\n",
       "      <td>0.257851</td>\n",
       "      <td>0.476033</td>\n",
       "      <td>0.158678</td>\n",
       "      <td>0.615385</td>\n",
       "      <td>1.292735</td>\n",
       "      <td>0.035932</td>\n",
       "      <td>1.362314</td>\n",
       "      <td>0.305122</td>\n",
       "    </tr>\n",
       "  </tbody>\n",
       "</table>\n",
       "</div>"
      ],
      "text/plain": [
       "     antecedents   consequents  antecedent support  consequent support  \\\n",
       "0  (safety_high)   (persons_2)            0.228926            0.476033   \n",
       "1    (persons_4)  (safety_low)            0.257851            0.476033   \n",
       "\n",
       "    support  confidence      lift  leverage  conviction  zhangs_metric  \n",
       "0  0.158678    0.693141  1.456077  0.049702    1.707516       0.406217  \n",
       "1  0.158678    0.615385  1.292735  0.035932    1.362314       0.305122  "
      ]
     },
     "execution_count": 46,
     "metadata": {},
     "output_type": "execute_result"
    }
   ],
   "source": [
    "unfItems = apriori(data3a, min_support=0.1, use_colnames=True)\n",
    "unfItemRules = association_rules(unfItems, min_threshold=0.6)\n",
    "unfItemRules = unfItemRules[unfItemRules[\"lift\"] > 1.25]\n",
    "unStrongAsscRules = unfItemRules.sort_values(by=['confidence','lift','support'], ascending=[False, False, False])\n",
    "unStrongAsscRules"
   ]
  },
  {
   "cell_type": "markdown",
   "id": "fb556c27",
   "metadata": {},
   "source": [
    "<h1 style=\"color:goldenrod\">CONCLUSION</h1>"
   ]
  },
  {
   "cell_type": "markdown",
   "id": "c85d176a",
   "metadata": {},
   "source": [
    "<ol>\n",
    "<li> Car Rating = Accept </li>\n",
    " <p>I have found a pattern that [ (persons_4, lug_boot_small)-->(safety_high) ]. This mean that if a car has a capacity of 4 persons and a small luggage boot, it have a high safety rating. And this combination of car features is more likely to have accept rating by car expert</p>\n",
    "    <br>\n",
    " <li> Car Rating = Unaccept </li>\n",
    " <p>I have found a pattern that [ (safety_high)-->(persons_2) ]. This mean that if a car has high safety rating but the capacity is of only two person than this pattern is more likely to have unaccept rating by car rating expert.</p>\n",
    "\n",
    "</ol>"
   ]
  },
  {
   "cell_type": "markdown",
   "id": "01cb6045",
   "metadata": {},
   "source": [
    "<h4 style=\"color:red\">----------------------------------------------------------------------------------------------------------------------------------------------------------------------------------------------</h4>"
   ]
  },
  {
   "cell_type": "markdown",
   "id": "0767bd93",
   "metadata": {},
   "source": [
    "<center><h1 style=\"color:purple\">END OF ASSIGNMENT</H1></CENTER>"
   ]
  },
  {
   "cell_type": "markdown",
   "id": "bbf94642",
   "metadata": {},
   "source": [
    "<h4 style=\"color:red\">----------------------------------------------------------------------------------------------------------------------------------------------------------------------------------------------</h4>"
   ]
  },
  {
   "cell_type": "code",
   "execution_count": null,
   "id": "04a5f478",
   "metadata": {},
   "outputs": [],
   "source": []
  }
 ],
 "metadata": {
  "kernelspec": {
   "display_name": "Python 3 (ipykernel)",
   "language": "python",
   "name": "python3"
  },
  "language_info": {
   "codemirror_mode": {
    "name": "ipython",
    "version": 3
   },
   "file_extension": ".py",
   "mimetype": "text/x-python",
   "name": "python",
   "nbconvert_exporter": "python",
   "pygments_lexer": "ipython3",
   "version": "3.10.8"
  }
 },
 "nbformat": 4,
 "nbformat_minor": 5
}
