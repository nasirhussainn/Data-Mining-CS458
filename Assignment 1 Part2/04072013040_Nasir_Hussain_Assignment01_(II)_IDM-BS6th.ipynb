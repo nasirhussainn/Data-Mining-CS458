{
 "cells": [
  {
   "cell_type": "markdown",
   "id": "6819665c",
   "metadata": {},
   "source": [
    "<h4 style=\"color:purple\">Nasir Hussain 04072013040</h4>"
   ]
  },
  {
   "cell_type": "markdown",
   "id": "d7e7b659",
   "metadata": {},
   "source": [
    "<center>\n",
    "<h3 style=\"color:purple\">Introduction to Data Mining</h3>\n",
    "<h4 style=\"color:purple\">Assignment : 01 Part [II] </h4>\n",
    "</center>"
   ]
  },
  {
   "cell_type": "code",
   "execution_count": 1,
   "id": "e1776447",
   "metadata": {},
   "outputs": [],
   "source": [
    "import numpy as np\n",
    "import matplotlib.pyplot as plt\n",
    "import pandas as pd"
   ]
  },
  {
   "cell_type": "markdown",
   "id": "492fee61",
   "metadata": {},
   "source": [
    "<h3 style=\"color:purple\">Task 1:Load the dataset</h3>"
   ]
  },
  {
   "cell_type": "code",
   "execution_count": 2,
   "id": "60b2d142",
   "metadata": {},
   "outputs": [
    {
     "data": {
      "text/plain": [
       "array([['age', 'job', 'marital', ..., 'previous', 'poutcome',\n",
       "        'subscribed'],\n",
       "       ['30', 'unemployed', 'married', ..., '0', 'unknown', 'no'],\n",
       "       ['33', 'services', 'married', ..., '4', 'failure', 'no'],\n",
       "       ...,\n",
       "       ['34', 'management', 'single', ..., '1', 'failure', 'no'],\n",
       "       ['40', 'services', 'married', ..., '0', 'unknown', 'no'],\n",
       "       ['20', 'student', 'single', ..., '5', 'failure', 'no']],\n",
       "      dtype='<U13')"
      ]
     },
     "execution_count": 2,
     "metadata": {},
     "output_type": "execute_result"
    }
   ],
   "source": [
    "dataset=np.genfromtxt(\"Bank Marketing Dataset.csv\",delimiter=\",\",dtype=str)\n",
    "dataset = dataset[:1001]\n",
    "dataset"
   ]
  },
  {
   "cell_type": "code",
   "execution_count": 3,
   "id": "52d7330f",
   "metadata": {
    "scrolled": true
   },
   "outputs": [
    {
     "data": {
      "text/html": [
       "<div>\n",
       "<style scoped>\n",
       "    .dataframe tbody tr th:only-of-type {\n",
       "        vertical-align: middle;\n",
       "    }\n",
       "\n",
       "    .dataframe tbody tr th {\n",
       "        vertical-align: top;\n",
       "    }\n",
       "\n",
       "    .dataframe thead th {\n",
       "        text-align: right;\n",
       "    }\n",
       "</style>\n",
       "<table border=\"1\" class=\"dataframe\">\n",
       "  <thead>\n",
       "    <tr style=\"text-align: right;\">\n",
       "      <th></th>\n",
       "      <th>age</th>\n",
       "      <th>job</th>\n",
       "      <th>marital</th>\n",
       "      <th>education</th>\n",
       "      <th>default</th>\n",
       "      <th>balance</th>\n",
       "      <th>housing</th>\n",
       "      <th>loan</th>\n",
       "      <th>contact</th>\n",
       "      <th>day</th>\n",
       "      <th>month</th>\n",
       "      <th>duration</th>\n",
       "      <th>campaign</th>\n",
       "      <th>pdays</th>\n",
       "      <th>previous</th>\n",
       "      <th>poutcome</th>\n",
       "      <th>subscribed</th>\n",
       "    </tr>\n",
       "  </thead>\n",
       "  <tbody>\n",
       "    <tr>\n",
       "      <th>0</th>\n",
       "      <td>30</td>\n",
       "      <td>unemployed</td>\n",
       "      <td>married</td>\n",
       "      <td>primary</td>\n",
       "      <td>no</td>\n",
       "      <td>1787</td>\n",
       "      <td>no</td>\n",
       "      <td>no</td>\n",
       "      <td>cellular</td>\n",
       "      <td>19</td>\n",
       "      <td>oct</td>\n",
       "      <td>79</td>\n",
       "      <td>1</td>\n",
       "      <td>-1</td>\n",
       "      <td>0</td>\n",
       "      <td>unknown</td>\n",
       "      <td>no</td>\n",
       "    </tr>\n",
       "    <tr>\n",
       "      <th>1</th>\n",
       "      <td>33</td>\n",
       "      <td>services</td>\n",
       "      <td>married</td>\n",
       "      <td>secondary</td>\n",
       "      <td>no</td>\n",
       "      <td>4789</td>\n",
       "      <td>yes</td>\n",
       "      <td>yes</td>\n",
       "      <td>cellular</td>\n",
       "      <td>11</td>\n",
       "      <td>may</td>\n",
       "      <td>220</td>\n",
       "      <td>1</td>\n",
       "      <td>339</td>\n",
       "      <td>4</td>\n",
       "      <td>failure</td>\n",
       "      <td>no</td>\n",
       "    </tr>\n",
       "    <tr>\n",
       "      <th>2</th>\n",
       "      <td>35</td>\n",
       "      <td>management</td>\n",
       "      <td>single</td>\n",
       "      <td>tertiary</td>\n",
       "      <td>no</td>\n",
       "      <td>1350</td>\n",
       "      <td>yes</td>\n",
       "      <td>no</td>\n",
       "      <td>cellular</td>\n",
       "      <td>16</td>\n",
       "      <td>apr</td>\n",
       "      <td>185</td>\n",
       "      <td>1</td>\n",
       "      <td>330</td>\n",
       "      <td>1</td>\n",
       "      <td>failure</td>\n",
       "      <td>no</td>\n",
       "    </tr>\n",
       "    <tr>\n",
       "      <th>3</th>\n",
       "      <td>30</td>\n",
       "      <td>management</td>\n",
       "      <td>married</td>\n",
       "      <td>tertiary</td>\n",
       "      <td>no</td>\n",
       "      <td>1476</td>\n",
       "      <td>yes</td>\n",
       "      <td>yes</td>\n",
       "      <td>unknown</td>\n",
       "      <td>3</td>\n",
       "      <td>jun</td>\n",
       "      <td>199</td>\n",
       "      <td>4</td>\n",
       "      <td>-1</td>\n",
       "      <td>0</td>\n",
       "      <td>unknown</td>\n",
       "      <td>no</td>\n",
       "    </tr>\n",
       "    <tr>\n",
       "      <th>4</th>\n",
       "      <td>59</td>\n",
       "      <td>blue-collar</td>\n",
       "      <td>married</td>\n",
       "      <td>secondary</td>\n",
       "      <td>no</td>\n",
       "      <td>0</td>\n",
       "      <td>yes</td>\n",
       "      <td>no</td>\n",
       "      <td>unknown</td>\n",
       "      <td>5</td>\n",
       "      <td>may</td>\n",
       "      <td>226</td>\n",
       "      <td>1</td>\n",
       "      <td>-1</td>\n",
       "      <td>0</td>\n",
       "      <td>unknown</td>\n",
       "      <td>no</td>\n",
       "    </tr>\n",
       "  </tbody>\n",
       "</table>\n",
       "</div>"
      ],
      "text/plain": [
       "   age          job  marital  education default  balance housing loan  \\\n",
       "0   30   unemployed  married    primary      no     1787      no   no   \n",
       "1   33     services  married  secondary      no     4789     yes  yes   \n",
       "2   35   management   single   tertiary      no     1350     yes   no   \n",
       "3   30   management  married   tertiary      no     1476     yes  yes   \n",
       "4   59  blue-collar  married  secondary      no        0     yes   no   \n",
       "\n",
       "    contact  day month  duration  campaign  pdays  previous poutcome  \\\n",
       "0  cellular   19   oct        79         1     -1         0  unknown   \n",
       "1  cellular   11   may       220         1    339         4  failure   \n",
       "2  cellular   16   apr       185         1    330         1  failure   \n",
       "3   unknown    3   jun       199         4     -1         0  unknown   \n",
       "4   unknown    5   may       226         1     -1         0  unknown   \n",
       "\n",
       "  subscribed  \n",
       "0         no  \n",
       "1         no  \n",
       "2         no  \n",
       "3         no  \n",
       "4         no  "
      ]
     },
     "execution_count": 3,
     "metadata": {},
     "output_type": "execute_result"
    }
   ],
   "source": [
    "data=pd.read_csv(\"Bank Marketing Dataset.csv\")\n",
    "data=data.iloc[:1000]\n",
    "data.head()"
   ]
  },
  {
   "cell_type": "code",
   "execution_count": 4,
   "id": "2e6f4501",
   "metadata": {},
   "outputs": [
    {
     "data": {
      "text/plain": [
       "1000"
      ]
     },
     "execution_count": 4,
     "metadata": {},
     "output_type": "execute_result"
    }
   ],
   "source": [
    "len(data)"
   ]
  },
  {
   "cell_type": "markdown",
   "id": "6e5381aa",
   "metadata": {},
   "source": [
    "<h3 style=\"color:purple\">Task 2:Normalize one numeric attribute using all three normalization formula we studied</h3>"
   ]
  },
  {
   "cell_type": "code",
   "execution_count": 5,
   "id": "d47406fa",
   "metadata": {},
   "outputs": [],
   "source": [
    "Duration = dataset[1:, 11].astype(int)"
   ]
  },
  {
   "cell_type": "markdown",
   "id": "36723e80",
   "metadata": {},
   "source": [
    "<h3 style=\"color:orange\">Formula 1 : min-max normalization</h3>"
   ]
  },
  {
   "cell_type": "markdown",
   "id": "c92fb4f0",
   "metadata": {},
   "source": [
    "<h4 style=\"color:purple\">By Coding</h4>"
   ]
  },
  {
   "cell_type": "code",
   "execution_count": 6,
   "id": "4060253d",
   "metadata": {},
   "outputs": [],
   "source": [
    "Norm_Duration_1a = np.zeros(1000)\n",
    "max_duration = np.max(Duration)\n",
    "min_duration = np.min(Duration)\n",
    "new_max=5\n",
    "new_min=1\n",
    "\n",
    "for i in range(1000):\n",
    "    val=(Duration[i]-min_duration)/(max_duration-min_duration)\n",
    "    Norm_Duration_1a[i]=val*(new_max-new_min)+new_min"
   ]
  },
  {
   "cell_type": "markdown",
   "id": "768a6a49",
   "metadata": {},
   "source": [
    "<h4 style=\"color:purple\">By Build-in interp()</h4>"
   ]
  },
  {
   "cell_type": "code",
   "execution_count": 7,
   "id": "dc87fadb",
   "metadata": {},
   "outputs": [],
   "source": [
    "Norm_Duration_1b=np.interp(Duration, (min_duration, max_duration), (1, 5))"
   ]
  },
  {
   "cell_type": "code",
   "execution_count": 8,
   "id": "cb9f935b",
   "metadata": {},
   "outputs": [
    {
     "data": {
      "text/plain": [
       "1.4079470198675497"
      ]
     },
     "execution_count": 8,
     "metadata": {},
     "output_type": "execute_result"
    }
   ],
   "source": [
    "Norm_Duration_1a[9]"
   ]
  },
  {
   "cell_type": "code",
   "execution_count": 9,
   "id": "ae096a2d",
   "metadata": {},
   "outputs": [
    {
     "data": {
      "text/plain": [
       "1.4079470198675497"
      ]
     },
     "execution_count": 9,
     "metadata": {},
     "output_type": "execute_result"
    }
   ],
   "source": [
    "Norm_Duration_1b[9]"
   ]
  },
  {
   "cell_type": "markdown",
   "id": "f95a9a3c",
   "metadata": {},
   "source": [
    "<h3 style=\"color:orange\">Formula 2 : z-score normalization</h3>"
   ]
  },
  {
   "cell_type": "markdown",
   "id": "cebc3b5d",
   "metadata": {},
   "source": [
    "<h4 style=\"color:purple\">By Coding</h4>"
   ]
  },
  {
   "cell_type": "code",
   "execution_count": 10,
   "id": "bf4e516d",
   "metadata": {},
   "outputs": [],
   "source": [
    "Norm_Duration_2a = np.zeros(1000)\n",
    "mean_duration=np.mean(Duration)\n",
    "std_duration=np.std(Duration)\n",
    "for i in range(1000):\n",
    "    Norm_Duration_2a[i]=(Duration[i]-mean_duration)/std_duration"
   ]
  },
  {
   "cell_type": "markdown",
   "id": "f1f641a8",
   "metadata": {},
   "source": [
    "<h4 style=\"color:purple\">By built-in zscore()</h4>"
   ]
  },
  {
   "cell_type": "code",
   "execution_count": 11,
   "id": "8cb9a164",
   "metadata": {},
   "outputs": [],
   "source": [
    "from scipy.stats import zscore\n",
    "Norm_Duration_2b=zscore(Duration)"
   ]
  },
  {
   "cell_type": "code",
   "execution_count": 12,
   "id": "513c4e14",
   "metadata": {},
   "outputs": [
    {
     "data": {
      "text/plain": [
       "0.17987066961398407"
      ]
     },
     "execution_count": 12,
     "metadata": {},
     "output_type": "execute_result"
    }
   ],
   "source": [
    "Norm_Duration_2a[9]"
   ]
  },
  {
   "cell_type": "code",
   "execution_count": 13,
   "id": "8476b3b2",
   "metadata": {},
   "outputs": [
    {
     "data": {
      "text/plain": [
       "0.17987066961398407"
      ]
     },
     "execution_count": 13,
     "metadata": {},
     "output_type": "execute_result"
    }
   ],
   "source": [
    "Norm_Duration_2b[9]"
   ]
  },
  {
   "cell_type": "markdown",
   "id": "154b17b8",
   "metadata": {},
   "source": [
    "<h3 style=\"color:orange\">Formula 3 : decimal scaling normalization</h3>"
   ]
  },
  {
   "cell_type": "code",
   "execution_count": 39,
   "id": "09f2396a",
   "metadata": {},
   "outputs": [
    {
     "data": {
      "text/plain": [
       "3025"
      ]
     },
     "execution_count": 39,
     "metadata": {},
     "output_type": "execute_result"
    }
   ],
   "source": [
    "max_duration"
   ]
  },
  {
   "cell_type": "code",
   "execution_count": 15,
   "id": "03c690ec",
   "metadata": {},
   "outputs": [
    {
     "data": {
      "text/plain": [
       "0.3025"
      ]
     },
     "execution_count": 15,
     "metadata": {},
     "output_type": "execute_result"
    }
   ],
   "source": [
    "a=str(max_duration)\n",
    "j=len(a)\n",
    "max_duration/(10**j)"
   ]
  },
  {
   "cell_type": "code",
   "execution_count": 16,
   "id": "34617ccb",
   "metadata": {},
   "outputs": [],
   "source": [
    "Norm_Duration_3 = np.zeros(1000)\n",
    "for i in range(1000):\n",
    "    Norm_Duration_3[i]=Duration[i]/(10**j)"
   ]
  },
  {
   "cell_type": "code",
   "execution_count": 17,
   "id": "fd21b0d6",
   "metadata": {},
   "outputs": [
    {
     "data": {
      "text/plain": [
       "0.0313"
      ]
     },
     "execution_count": 17,
     "metadata": {},
     "output_type": "execute_result"
    }
   ],
   "source": [
    "Norm_Duration_3[9]"
   ]
  },
  {
   "cell_type": "markdown",
   "id": "fc628dca",
   "metadata": {},
   "source": [
    "<h3 style=\"color:purple\">Task 3:Find the correlation between two numeric attributes</h3>"
   ]
  },
  {
   "cell_type": "code",
   "execution_count": 18,
   "id": "59a345ef",
   "metadata": {},
   "outputs": [],
   "source": [
    "Customer_Ages = dataset[1:, 0].astype(int)\n",
    "Campaign = dataset[1:, 12].astype(int)"
   ]
  },
  {
   "cell_type": "markdown",
   "id": "be45e28d",
   "metadata": {},
   "source": [
    "<h3 style=\"color:orange\">Using : Pearson's product moment coefficient</h3>"
   ]
  },
  {
   "cell_type": "markdown",
   "id": "7a5c3842",
   "metadata": {},
   "source": [
    "<h4 style=\"color:purple\">By Coding</h4>"
   ]
  },
  {
   "cell_type": "code",
   "execution_count": 40,
   "id": "48505821",
   "metadata": {
    "scrolled": false
   },
   "outputs": [],
   "source": [
    "sumA=0\n",
    "sumB=0\n",
    "summation=0\n",
    "meanA=np.mean(Customer_Ages)\n",
    "meanB=np.mean(Campaign)\n",
    "stdA=np.std(Customer_Ages)\n",
    "stdB=np.std(Campaign)\n",
    "n=1000\n",
    "for i in range(1000):\n",
    "    sumA=Customer_Ages[i]-meanA\n",
    "    sumB=Campaign[i]-meanB\n",
    "    summation+=sumA*sumB\n",
    "rAB=summation/(n*stdA*stdB)"
   ]
  },
  {
   "cell_type": "code",
   "execution_count": 41,
   "id": "889bc399",
   "metadata": {},
   "outputs": [
    {
     "data": {
      "text/plain": [
       "0.019467925067052028"
      ]
     },
     "execution_count": 41,
     "metadata": {},
     "output_type": "execute_result"
    }
   ],
   "source": [
    "rAB"
   ]
  },
  {
   "cell_type": "markdown",
   "id": "2b7b535b",
   "metadata": {},
   "source": [
    "<h4 style=\"color:purple\">By Built-in corrcoef()</h4>"
   ]
  },
  {
   "cell_type": "code",
   "execution_count": 42,
   "id": "cd477a84",
   "metadata": {},
   "outputs": [
    {
     "data": {
      "text/plain": [
       "array([[1.        , 0.01946793],\n",
       "       [0.01946793, 1.        ]])"
      ]
     },
     "execution_count": 42,
     "metadata": {},
     "output_type": "execute_result"
    }
   ],
   "source": [
    "rAB1=np.corrcoef(Customer_Ages,Campaign)\n",
    "rAB1"
   ]
  },
  {
   "cell_type": "code",
   "execution_count": 43,
   "id": "17e6f192",
   "metadata": {},
   "outputs": [
    {
     "data": {
      "text/plain": [
       "0.019467925067052003"
      ]
     },
     "execution_count": 43,
     "metadata": {},
     "output_type": "execute_result"
    }
   ],
   "source": [
    "rAB1[0][1]"
   ]
  },
  {
   "cell_type": "markdown",
   "id": "e9f284a4",
   "metadata": {},
   "source": [
    "<h6 style=\"color:blue\">In diagonal there is correlation between x and x, and y and y</h6>"
   ]
  },
  {
   "cell_type": "markdown",
   "id": "375930d1",
   "metadata": {},
   "source": [
    "<h4 style=\"color:green\"><b>INDEPENDENT AS rAB=rAB1=0</b> <i>where A=Customer_Age and B=Campaign</i></h4>"
   ]
  },
  {
   "cell_type": "code",
   "execution_count": 44,
   "id": "02888a27",
   "metadata": {},
   "outputs": [
    {
     "data": {
      "image/png": "[encoded data removed]",
      "text/plain": [
       "<Figure size 640x480 with 1 Axes>"
      ]
     },
     "metadata": {},
     "output_type": "display_data"
    }
   ],
   "source": [
    "plt.style.use('dark_background')\n",
    "with plt.style.context('dark_background'):\n",
    "    plt.scatter(Customer_Ages,(Campaign/100),marker=\"D\",s=5,color=\"green\")\n",
    "    plt.xlabel(\"Ages\")\n",
    "    plt.ylabel(\"Campaign (scaled down by a factor of 100)\")\n",
    "    plt.title(\"Customer Age vs. Campaign\")\n",
    "    plt.show()\n",
    "\n",
    "#plt.grid(color=\"red\", linestyle=\":\", alpha=0.5)"
   ]
  },
  {
   "cell_type": "markdown",
   "id": "edf756a2",
   "metadata": {},
   "source": [
    "<h3 style=\"color:purple\">Task 4:Form a random sample of a given size with replacement</h3>"
   ]
  },
  {
   "cell_type": "markdown",
   "id": "ed31941c",
   "metadata": {},
   "source": [
    "<h4 style=\"color:orange\">Stratified Sampling (ACCORDING TO AGE)</h4>"
   ]
  },
  {
   "cell_type": "code",
   "execution_count": 45,
   "id": "bbf85c57",
   "metadata": {},
   "outputs": [
    {
     "data": {
      "text/plain": [
       "19"
      ]
     },
     "execution_count": 45,
     "metadata": {},
     "output_type": "execute_result"
    }
   ],
   "source": [
    "Customer_Ages.min()"
   ]
  },
  {
   "cell_type": "code",
   "execution_count": 46,
   "id": "e6915ab3",
   "metadata": {},
   "outputs": [
    {
     "data": {
      "text/plain": [
       "83"
      ]
     },
     "execution_count": 46,
     "metadata": {},
     "output_type": "execute_result"
    }
   ],
   "source": [
    "Customer_Ages.max()"
   ]
  },
  {
   "cell_type": "code",
   "execution_count": 47,
   "id": "153cdfe0",
   "metadata": {},
   "outputs": [],
   "source": [
    "age_class = [18, 30, 50, 65, 84] \n",
    "age_groups = np.digitize(Customer_Ages, age_class)\n",
    "TeenagersYoungAdults = Customer_Ages[np.where(age_groups == 1)]\n",
    "Adults = Customer_Ages[np.where(age_groups == 2)]\n",
    "MiddleAgedAdults = Customer_Ages[np.where(age_groups == 3)]\n",
    "SeniorCitizens = Customer_Ages[np.where(age_groups == 4)]"
   ]
  },
  {
   "cell_type": "code",
   "execution_count": 48,
   "id": "bd38fc0e",
   "metadata": {},
   "outputs": [
    {
     "name": "stdout",
     "output_type": "stream",
     "text": [
      "TeenagerYoungAdults :  109\n",
      "Adults :  658\n",
      "MiddleAgedAdults :  218\n",
      "SeniorCitizens :  15\n"
     ]
    }
   ],
   "source": [
    "TYA=np.size(TeenagersYoungAdults)\n",
    "A=np.size(Adults)\n",
    "MAA=np.size(MiddleAgedAdults)\n",
    "SC=np.size(SeniorCitizens)\n",
    "print(\"TeenagerYoungAdults : \",TYA)\n",
    "print(\"Adults : \",A)\n",
    "print(\"MiddleAgedAdults : \",MAA)\n",
    "print(\"SeniorCitizens : \",SC)"
   ]
  },
  {
   "cell_type": "code",
   "execution_count": 49,
   "id": "187aacda",
   "metadata": {},
   "outputs": [],
   "source": [
    "xdataset = dataset[1:].copy()\n",
    "\n",
    "def select_sample_group(sampleSize, ageArray):\n",
    "    ageArray = ageArray.astype(str)\n",
    "    groupAgeIndices = np.where(np.isin(xdataset[:, 0], ageArray))[0]\n",
    "    random_selection_indices = np.random.choice(groupAgeIndices, size=sampleSize, replace=True)\n",
    "    return random_selection_indices\n"
   ]
  },
  {
   "cell_type": "code",
   "execution_count": 50,
   "id": "57dffdc2",
   "metadata": {
    "scrolled": false
   },
   "outputs": [],
   "source": [
    "import math\n",
    "x1=select_sample_group(math.ceil(TYA/2),TeenagersYoungAdults)\n",
    "x2=select_sample_group(math.ceil(A/2),Adults)\n",
    "x3=select_sample_group(math.ceil(MAA/2),MiddleAgedAdults)\n",
    "x4=select_sample_group(math.ceil(SC/2),SeniorCitizens)"
   ]
  },
  {
   "cell_type": "code",
   "execution_count": 51,
   "id": "9c6d1810",
   "metadata": {},
   "outputs": [],
   "source": [
    "x5=np.concatenate((x1,x2,x3,x4))"
   ]
  },
  {
   "cell_type": "code",
   "execution_count": 52,
   "id": "20dba387",
   "metadata": {},
   "outputs": [
    {
     "data": {
      "text/plain": [
       "501"
      ]
     },
     "execution_count": 52,
     "metadata": {},
     "output_type": "execute_result"
    }
   ],
   "source": [
    "sampleDataSet=xdataset[x5]\n",
    "len(sampleDataSet)"
   ]
  },
  {
   "cell_type": "code",
   "execution_count": 53,
   "id": "ded8e237",
   "metadata": {},
   "outputs": [
    {
     "data": {
      "text/plain": [
       "array([['22', 'student', 'single', ..., '0', 'unknown', 'no'],\n",
       "       ['26', 'unemployed', 'single', ..., '0', 'unknown', 'no'],\n",
       "       ['27', 'self-employed', 'married', ..., '0', 'unknown', 'no'],\n",
       "       ...,\n",
       "       ['77', 'retired', 'divorced', ..., '0', 'unknown', 'yes'],\n",
       "       ['81', 'retired', 'married', ..., '0', 'unknown', 'no'],\n",
       "       ['81', 'retired', 'married', ..., '0', 'unknown', 'no']],\n",
       "      dtype='<U13')"
      ]
     },
     "execution_count": 53,
     "metadata": {},
     "output_type": "execute_result"
    }
   ],
   "source": [
    "sampleDataSet"
   ]
  },
  {
   "cell_type": "code",
   "execution_count": 54,
   "id": "e0941e98",
   "metadata": {
    "scrolled": true
   },
   "outputs": [
    {
     "name": "stdout",
     "output_type": "stream",
     "text": [
      "1-TeenagersYoungAdults\n",
      "\tPopulation Size =  109\n",
      "\tSample Size =  55\n",
      "2-Adults\n",
      "\tPopulation Size =  658\n",
      "\tSample Size =  329\n",
      "3-MiddleAgedAdults\n",
      "\tPopulation Size =  218\n",
      "\tSample Size =  109\n",
      "4-SeniorCitizens\n",
      "\tPopulation Size =  15\n",
      "\tSample Size =  8\n",
      "5-DATASETS\n",
      "\tPopulation Size =  1000\n",
      "\tSample Size =  501\n"
     ]
    }
   ],
   "source": [
    "print(\"1-TeenagersYoungAdults\")\n",
    "print(\"\\tPopulation Size = \",TYA)\n",
    "print(\"\\tSample Size = \",np.size(x1))\n",
    "print(\"2-Adults\")\n",
    "print(\"\\tPopulation Size = \",A)\n",
    "print(\"\\tSample Size = \",np.size(x2))\n",
    "print(\"3-MiddleAgedAdults\")\n",
    "print(\"\\tPopulation Size = \",MAA)\n",
    "print(\"\\tSample Size = \",np.size(x3))\n",
    "print(\"4-SeniorCitizens\")\n",
    "print(\"\\tPopulation Size = \",SC)\n",
    "print(\"\\tSample Size = \",np.size(x4))\n",
    "print(\"5-DATASETS\")\n",
    "print(\"\\tPopulation Size = \",len(xdataset))\n",
    "print(\"\\tSample Size = \",len(sampleDataSet))"
   ]
  },
  {
   "cell_type": "code",
   "execution_count": 55,
   "id": "aab31b48",
   "metadata": {},
   "outputs": [
    {
     "data": {
      "image/png": "[encoded data removed]",
      "text/plain": [
       "<Figure size 640x480 with 1 Axes>"
      ]
     },
     "metadata": {},
     "output_type": "display_data"
    }
   ],
   "source": [
    "xTYA=np.size(x1)\n",
    "xA=np.size(x2)\n",
    "xMAA=np.size(x3)\n",
    "xSC=np.size(x4)\n",
    "\n",
    "populations = np.array([TYA, A, MAA, SC])\n",
    "samples = np.array([xTYA, xA, xMAA, xSC])\n",
    "\n",
    "bwidth=0.35\n",
    "s = np.arange(len(populations))\n",
    "p = [x + bwidth for x in s]\n",
    "plt.style.use('dark_background')\n",
    "with plt.style.context('dark_background'):\n",
    "    plt.bar(s, populations, color='blue',edgecolor='white', width=bwidth, label='Population')\n",
    "    plt.bar(p, samples, color='purple',edgecolor='white', width=bwidth, label='Sample')\n",
    "\n",
    "    plt.xlabel('AGE CLASS')\n",
    "    plt.xticks([r + bwidth/2 for r in range(len(populations))], ['TeenYAdult', 'Adult', 'MidAgeAdult', 'SeniorCitizen'])\n",
    "    plt.ylabel('Size')\n",
    "    plt.title('Population VS Sample Sizes')\n",
    "\n",
    "    plt.legend()\n",
    "    plt.show()"
   ]
  },
  {
   "cell_type": "markdown",
   "id": "e44c561d",
   "metadata": {},
   "source": [
    "<h4 style=\"color:red\">-----------------------------------------------------------------------------------------------------------------------------------------------------------------------------------------------------------</h4>"
   ]
  },
  {
   "cell_type": "markdown",
   "id": "aa868379",
   "metadata": {},
   "source": [
    "<center><h2 style=\"color:purple\">END OF ASSIGNMENT</h2></center>"
   ]
  },
  {
   "cell_type": "markdown",
   "id": "a19d6e8c",
   "metadata": {},
   "source": [
    "<h4 style=\"color:red\">-----------------------------------------------------------------------------------------------------------------------------------------------------------------------------------------------------------</h4>"
   ]
  },
  {
   "cell_type": "code",
   "execution_count": null,
   "id": "fc169919",
   "metadata": {},
   "outputs": [],
   "source": []
  }
 ],
 "metadata": {
  "kernelspec": {
   "display_name": "Python 3 (ipykernel)",
   "language": "python",
   "name": "python3"
  },
  "language_info": {
   "codemirror_mode": {
    "name": "ipython",
    "version": 3
   },
   "file_extension": ".py",
   "mimetype": "text/x-python",
   "name": "python",
   "nbconvert_exporter": "python",
   "pygments_lexer": "ipython3",
   "version": "3.10.8"
  }
 },
 "nbformat": 4,
 "nbformat_minor": 5
}
