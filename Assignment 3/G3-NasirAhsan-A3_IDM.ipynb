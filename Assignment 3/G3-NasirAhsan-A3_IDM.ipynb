{
 "cells": [
  {
   "cell_type": "markdown",
   "id": "7ed8d896",
   "metadata": {},
   "source": [
    "<h4 style=\"color:purple\">Group No#3 <br> Nasir Hussain 04072013040 <br> Ahsan Raza 04072013023</h4>"
   ]
  },
  {
   "cell_type": "markdown",
   "id": "bc87d6c2",
   "metadata": {},
   "source": [
    "<center>\n",
    "<h3 style=\"color:purple\">Introduction to Data Mining</h3>\n",
    "<h4 style=\"color:purple\">Assignment : 3 </h4>\n",
    "</center>"
   ]
  },
  {
   "cell_type": "code",
   "execution_count": 63,
   "id": "96d60a48",
   "metadata": {},
   "outputs": [],
   "source": [
    "import numpy as np\n",
    "import sklearn\n",
    "import pandas as pd\n",
    "import matplotlib.pyplot as plt\n",
    "import seaborn as sns"
   ]
  },
  {
   "cell_type": "markdown",
   "id": "1c815d2b",
   "metadata": {},
   "source": [
    "<h2 style=\"color:purple\">Task 1 : Select Attributes</h2>"
   ]
  },
  {
   "cell_type": "markdown",
   "id": "19059079",
   "metadata": {},
   "source": [
    "<p style=\"color:orchid\"><b>Select attributes according to your group number in the following manner: The dataset has 31 attributes (1-31), and one class label (attribute 32). Group1 should use attributes 1-6, Group 2 attributes 2-7, and so on. Do not use attribute 31.</b></p>"
   ]
  },
  {
   "cell_type": "code",
   "execution_count": 64,
   "id": "5ba9a99f",
   "metadata": {
    "scrolled": false
   },
   "outputs": [
    {
     "data": {
      "text/html": [
       "<div>\n",
       "<style scoped>\n",
       "    .dataframe tbody tr th:only-of-type {\n",
       "        vertical-align: middle;\n",
       "    }\n",
       "\n",
       "    .dataframe tbody tr th {\n",
       "        vertical-align: top;\n",
       "    }\n",
       "\n",
       "    .dataframe thead th {\n",
       "        text-align: right;\n",
       "    }\n",
       "</style>\n",
       "<table border=\"1\" class=\"dataframe\">\n",
       "  <thead>\n",
       "    <tr style=\"text-align: right;\">\n",
       "      <th></th>\n",
       "      <th>STUDENT ID</th>\n",
       "      <th>1</th>\n",
       "      <th>2</th>\n",
       "      <th>3</th>\n",
       "      <th>4</th>\n",
       "      <th>5</th>\n",
       "      <th>6</th>\n",
       "      <th>7</th>\n",
       "      <th>8</th>\n",
       "      <th>9</th>\n",
       "      <th>...</th>\n",
       "      <th>23</th>\n",
       "      <th>24</th>\n",
       "      <th>25</th>\n",
       "      <th>26</th>\n",
       "      <th>27</th>\n",
       "      <th>28</th>\n",
       "      <th>29</th>\n",
       "      <th>30</th>\n",
       "      <th>COURSE ID</th>\n",
       "      <th>GRADE</th>\n",
       "    </tr>\n",
       "  </thead>\n",
       "  <tbody>\n",
       "    <tr>\n",
       "      <th>0</th>\n",
       "      <td>STUDENT1</td>\n",
       "      <td>2</td>\n",
       "      <td>2</td>\n",
       "      <td>3</td>\n",
       "      <td>3</td>\n",
       "      <td>1</td>\n",
       "      <td>2</td>\n",
       "      <td>2</td>\n",
       "      <td>1</td>\n",
       "      <td>1</td>\n",
       "      <td>...</td>\n",
       "      <td>1</td>\n",
       "      <td>1</td>\n",
       "      <td>3</td>\n",
       "      <td>2</td>\n",
       "      <td>1</td>\n",
       "      <td>2</td>\n",
       "      <td>1</td>\n",
       "      <td>1</td>\n",
       "      <td>1</td>\n",
       "      <td>1</td>\n",
       "    </tr>\n",
       "    <tr>\n",
       "      <th>1</th>\n",
       "      <td>STUDENT2</td>\n",
       "      <td>2</td>\n",
       "      <td>2</td>\n",
       "      <td>3</td>\n",
       "      <td>3</td>\n",
       "      <td>1</td>\n",
       "      <td>2</td>\n",
       "      <td>2</td>\n",
       "      <td>1</td>\n",
       "      <td>1</td>\n",
       "      <td>...</td>\n",
       "      <td>1</td>\n",
       "      <td>1</td>\n",
       "      <td>3</td>\n",
       "      <td>2</td>\n",
       "      <td>3</td>\n",
       "      <td>2</td>\n",
       "      <td>2</td>\n",
       "      <td>3</td>\n",
       "      <td>1</td>\n",
       "      <td>1</td>\n",
       "    </tr>\n",
       "    <tr>\n",
       "      <th>2</th>\n",
       "      <td>STUDENT3</td>\n",
       "      <td>2</td>\n",
       "      <td>2</td>\n",
       "      <td>2</td>\n",
       "      <td>3</td>\n",
       "      <td>2</td>\n",
       "      <td>2</td>\n",
       "      <td>2</td>\n",
       "      <td>2</td>\n",
       "      <td>4</td>\n",
       "      <td>...</td>\n",
       "      <td>1</td>\n",
       "      <td>1</td>\n",
       "      <td>2</td>\n",
       "      <td>2</td>\n",
       "      <td>1</td>\n",
       "      <td>1</td>\n",
       "      <td>2</td>\n",
       "      <td>2</td>\n",
       "      <td>1</td>\n",
       "      <td>1</td>\n",
       "    </tr>\n",
       "  </tbody>\n",
       "</table>\n",
       "<p>3 rows × 33 columns</p>\n",
       "</div>"
      ],
      "text/plain": [
       "  STUDENT ID  1  2  3  4  5  6  7  8  9  ...  23  24  25  26  27  28  29  30  \\\n",
       "0   STUDENT1  2  2  3  3  1  2  2  1  1  ...   1   1   3   2   1   2   1   1   \n",
       "1   STUDENT2  2  2  3  3  1  2  2  1  1  ...   1   1   3   2   3   2   2   3   \n",
       "2   STUDENT3  2  2  2  3  2  2  2  2  4  ...   1   1   2   2   1   1   2   2   \n",
       "\n",
       "   COURSE ID  GRADE  \n",
       "0          1      1  \n",
       "1          1      1  \n",
       "2          1      1  \n",
       "\n",
       "[3 rows x 33 columns]"
      ]
     },
     "execution_count": 64,
     "metadata": {},
     "output_type": "execute_result"
    }
   ],
   "source": [
    "df=pd.read_csv(\"DATA.csv\")\n",
    "df.head(3)"
   ]
  },
  {
   "cell_type": "markdown",
   "id": "b10abca1",
   "metadata": {},
   "source": [
    "<p style=\"color:orchid\"><b>FOR GROUP NO : 3 Attributes(3-8)</b></p>"
   ]
  },
  {
   "cell_type": "code",
   "execution_count": 4,
   "id": "c2dc3ef8",
   "metadata": {
    "scrolled": true
   },
   "outputs": [
    {
     "data": {
      "text/html": [
       "<div>\n",
       "<style scoped>\n",
       "    .dataframe tbody tr th:only-of-type {\n",
       "        vertical-align: middle;\n",
       "    }\n",
       "\n",
       "    .dataframe tbody tr th {\n",
       "        vertical-align: top;\n",
       "    }\n",
       "\n",
       "    .dataframe thead th {\n",
       "        text-align: right;\n",
       "    }\n",
       "</style>\n",
       "<table border=\"1\" class=\"dataframe\">\n",
       "  <thead>\n",
       "    <tr style=\"text-align: right;\">\n",
       "      <th></th>\n",
       "      <th>3</th>\n",
       "      <th>4</th>\n",
       "      <th>5</th>\n",
       "      <th>6</th>\n",
       "      <th>7</th>\n",
       "      <th>8</th>\n",
       "      <th>GRADE</th>\n",
       "    </tr>\n",
       "  </thead>\n",
       "  <tbody>\n",
       "    <tr>\n",
       "      <th>0</th>\n",
       "      <td>3</td>\n",
       "      <td>3</td>\n",
       "      <td>1</td>\n",
       "      <td>2</td>\n",
       "      <td>2</td>\n",
       "      <td>1</td>\n",
       "      <td>1</td>\n",
       "    </tr>\n",
       "    <tr>\n",
       "      <th>1</th>\n",
       "      <td>3</td>\n",
       "      <td>3</td>\n",
       "      <td>1</td>\n",
       "      <td>2</td>\n",
       "      <td>2</td>\n",
       "      <td>1</td>\n",
       "      <td>1</td>\n",
       "    </tr>\n",
       "    <tr>\n",
       "      <th>2</th>\n",
       "      <td>2</td>\n",
       "      <td>3</td>\n",
       "      <td>2</td>\n",
       "      <td>2</td>\n",
       "      <td>2</td>\n",
       "      <td>2</td>\n",
       "      <td>1</td>\n",
       "    </tr>\n",
       "    <tr>\n",
       "      <th>3</th>\n",
       "      <td>1</td>\n",
       "      <td>3</td>\n",
       "      <td>1</td>\n",
       "      <td>2</td>\n",
       "      <td>1</td>\n",
       "      <td>2</td>\n",
       "      <td>1</td>\n",
       "    </tr>\n",
       "    <tr>\n",
       "      <th>4</th>\n",
       "      <td>1</td>\n",
       "      <td>3</td>\n",
       "      <td>2</td>\n",
       "      <td>2</td>\n",
       "      <td>1</td>\n",
       "      <td>3</td>\n",
       "      <td>1</td>\n",
       "    </tr>\n",
       "  </tbody>\n",
       "</table>\n",
       "</div>"
      ],
      "text/plain": [
       "   3  4  5  6  7  8  GRADE\n",
       "0  3  3  1  2  2  1      1\n",
       "1  3  3  1  2  2  1      1\n",
       "2  2  3  2  2  2  2      1\n",
       "3  1  3  1  2  1  2      1\n",
       "4  1  3  2  2  1  3      1"
      ]
     },
     "execution_count": 4,
     "metadata": {},
     "output_type": "execute_result"
    }
   ],
   "source": [
    "df1 = df.iloc[:, list(range(3, 9)) + [32]]\n",
    "df1.head()"
   ]
  },
  {
   "cell_type": "markdown",
   "id": "baee8ede",
   "metadata": {},
   "source": [
    "<h3 style=\"color:purple\">Attribute Descriptions</h3>"
   ]
  },
  {
   "cell_type": "markdown",
   "id": "906271b7",
   "metadata": {},
   "source": [
    "<ul style=\"color:blue\">\n",
    "    <li>3- Graduated high-school type: (1: private, 2: state, 3: other)</li>\n",
    "<li>4- Scholarship type: (1: None, 2: 25%, 3: 50%, 4: 75%, 5: Full)</li>\n",
    "<li>5- Additional work: (1: Yes, 2: No)</li>\n",
    "<li>6- Regular artistic or sports activity: (1: Yes, 2: No)</li>\n",
    "<li>7- Do you have a partner: (1: Yes, 2: No)</li>\n",
    "<li>8- Total salary if available (1: USD 135-200, 2: USD 201-270, 3: USD 271-340, 4: USD 341-410, 5: above 410)</li>\n",
    "<li>32- OUTPUT Grade (0: Fail, 1: DD, 2: DC, 3: CC, 4: CB, 5: BB, 6: BA, 7: AA)</li>\n",
    "</p>"
   ]
  },
  {
   "cell_type": "code",
   "execution_count": 5,
   "id": "0be0efe3",
   "metadata": {},
   "outputs": [],
   "source": [
    "new_column_names = {\n",
    "    '3': 'High-School',\n",
    "    '4': 'Scholarship',\n",
    "    '5': 'Add-Work',\n",
    "    '6': 'Co-Curricular',\n",
    "    '7': 'Partner',\n",
    "    '8': 'Salary'\n",
    "}"
   ]
  },
  {
   "cell_type": "code",
   "execution_count": 6,
   "id": "0d4dffef",
   "metadata": {},
   "outputs": [
    {
     "data": {
      "text/html": [
       "<div>\n",
       "<style scoped>\n",
       "    .dataframe tbody tr th:only-of-type {\n",
       "        vertical-align: middle;\n",
       "    }\n",
       "\n",
       "    .dataframe tbody tr th {\n",
       "        vertical-align: top;\n",
       "    }\n",
       "\n",
       "    .dataframe thead th {\n",
       "        text-align: right;\n",
       "    }\n",
       "</style>\n",
       "<table border=\"1\" class=\"dataframe\">\n",
       "  <thead>\n",
       "    <tr style=\"text-align: right;\">\n",
       "      <th></th>\n",
       "      <th>High-School</th>\n",
       "      <th>Scholarship</th>\n",
       "      <th>Add-Work</th>\n",
       "      <th>Co-Curricular</th>\n",
       "      <th>Partner</th>\n",
       "      <th>Salary</th>\n",
       "      <th>GRADE</th>\n",
       "    </tr>\n",
       "  </thead>\n",
       "  <tbody>\n",
       "    <tr>\n",
       "      <th>0</th>\n",
       "      <td>3</td>\n",
       "      <td>3</td>\n",
       "      <td>1</td>\n",
       "      <td>2</td>\n",
       "      <td>2</td>\n",
       "      <td>1</td>\n",
       "      <td>1</td>\n",
       "    </tr>\n",
       "    <tr>\n",
       "      <th>1</th>\n",
       "      <td>3</td>\n",
       "      <td>3</td>\n",
       "      <td>1</td>\n",
       "      <td>2</td>\n",
       "      <td>2</td>\n",
       "      <td>1</td>\n",
       "      <td>1</td>\n",
       "    </tr>\n",
       "    <tr>\n",
       "      <th>2</th>\n",
       "      <td>2</td>\n",
       "      <td>3</td>\n",
       "      <td>2</td>\n",
       "      <td>2</td>\n",
       "      <td>2</td>\n",
       "      <td>2</td>\n",
       "      <td>1</td>\n",
       "    </tr>\n",
       "  </tbody>\n",
       "</table>\n",
       "</div>"
      ],
      "text/plain": [
       "   High-School  Scholarship  Add-Work  Co-Curricular  Partner  Salary  GRADE\n",
       "0            3            3         1              2        2       1      1\n",
       "1            3            3         1              2        2       1      1\n",
       "2            2            3         2              2        2       2      1"
      ]
     },
     "execution_count": 6,
     "metadata": {},
     "output_type": "execute_result"
    }
   ],
   "source": [
    "df2=df1.rename(columns=new_column_names)\n",
    "df2.head(3)"
   ]
  },
  {
   "cell_type": "code",
   "execution_count": 7,
   "id": "181b5a13",
   "metadata": {},
   "outputs": [
    {
     "data": {
      "text/html": [
       "<div>\n",
       "<style scoped>\n",
       "    .dataframe tbody tr th:only-of-type {\n",
       "        vertical-align: middle;\n",
       "    }\n",
       "\n",
       "    .dataframe tbody tr th {\n",
       "        vertical-align: top;\n",
       "    }\n",
       "\n",
       "    .dataframe thead th {\n",
       "        text-align: right;\n",
       "    }\n",
       "</style>\n",
       "<table border=\"1\" class=\"dataframe\">\n",
       "  <thead>\n",
       "    <tr style=\"text-align: right;\">\n",
       "      <th></th>\n",
       "      <th>High-School</th>\n",
       "      <th>Scholarship</th>\n",
       "      <th>Add-Work</th>\n",
       "      <th>Co-Curricular</th>\n",
       "      <th>Partner</th>\n",
       "      <th>Salary</th>\n",
       "      <th>GRADE</th>\n",
       "    </tr>\n",
       "  </thead>\n",
       "  <tbody>\n",
       "    <tr>\n",
       "      <th>count</th>\n",
       "      <td>145.000000</td>\n",
       "      <td>145.000000</td>\n",
       "      <td>145.000000</td>\n",
       "      <td>145.000000</td>\n",
       "      <td>145.000000</td>\n",
       "      <td>145.000000</td>\n",
       "      <td>145.000000</td>\n",
       "    </tr>\n",
       "    <tr>\n",
       "      <th>mean</th>\n",
       "      <td>1.944828</td>\n",
       "      <td>3.572414</td>\n",
       "      <td>1.662069</td>\n",
       "      <td>1.600000</td>\n",
       "      <td>1.579310</td>\n",
       "      <td>1.627586</td>\n",
       "      <td>3.227586</td>\n",
       "    </tr>\n",
       "    <tr>\n",
       "      <th>std</th>\n",
       "      <td>0.537216</td>\n",
       "      <td>0.805750</td>\n",
       "      <td>0.474644</td>\n",
       "      <td>0.491596</td>\n",
       "      <td>0.495381</td>\n",
       "      <td>1.020245</td>\n",
       "      <td>2.197678</td>\n",
       "    </tr>\n",
       "    <tr>\n",
       "      <th>min</th>\n",
       "      <td>1.000000</td>\n",
       "      <td>1.000000</td>\n",
       "      <td>1.000000</td>\n",
       "      <td>1.000000</td>\n",
       "      <td>1.000000</td>\n",
       "      <td>1.000000</td>\n",
       "      <td>0.000000</td>\n",
       "    </tr>\n",
       "    <tr>\n",
       "      <th>25%</th>\n",
       "      <td>2.000000</td>\n",
       "      <td>3.000000</td>\n",
       "      <td>1.000000</td>\n",
       "      <td>1.000000</td>\n",
       "      <td>1.000000</td>\n",
       "      <td>1.000000</td>\n",
       "      <td>1.000000</td>\n",
       "    </tr>\n",
       "    <tr>\n",
       "      <th>50%</th>\n",
       "      <td>2.000000</td>\n",
       "      <td>3.000000</td>\n",
       "      <td>2.000000</td>\n",
       "      <td>2.000000</td>\n",
       "      <td>2.000000</td>\n",
       "      <td>1.000000</td>\n",
       "      <td>3.000000</td>\n",
       "    </tr>\n",
       "    <tr>\n",
       "      <th>75%</th>\n",
       "      <td>2.000000</td>\n",
       "      <td>4.000000</td>\n",
       "      <td>2.000000</td>\n",
       "      <td>2.000000</td>\n",
       "      <td>2.000000</td>\n",
       "      <td>2.000000</td>\n",
       "      <td>5.000000</td>\n",
       "    </tr>\n",
       "    <tr>\n",
       "      <th>max</th>\n",
       "      <td>3.000000</td>\n",
       "      <td>5.000000</td>\n",
       "      <td>2.000000</td>\n",
       "      <td>2.000000</td>\n",
       "      <td>2.000000</td>\n",
       "      <td>5.000000</td>\n",
       "      <td>7.000000</td>\n",
       "    </tr>\n",
       "  </tbody>\n",
       "</table>\n",
       "</div>"
      ],
      "text/plain": [
       "       High-School  Scholarship    Add-Work  Co-Curricular     Partner  \\\n",
       "count   145.000000   145.000000  145.000000     145.000000  145.000000   \n",
       "mean      1.944828     3.572414    1.662069       1.600000    1.579310   \n",
       "std       0.537216     0.805750    0.474644       0.491596    0.495381   \n",
       "min       1.000000     1.000000    1.000000       1.000000    1.000000   \n",
       "25%       2.000000     3.000000    1.000000       1.000000    1.000000   \n",
       "50%       2.000000     3.000000    2.000000       2.000000    2.000000   \n",
       "75%       2.000000     4.000000    2.000000       2.000000    2.000000   \n",
       "max       3.000000     5.000000    2.000000       2.000000    2.000000   \n",
       "\n",
       "           Salary       GRADE  \n",
       "count  145.000000  145.000000  \n",
       "mean     1.627586    3.227586  \n",
       "std      1.020245    2.197678  \n",
       "min      1.000000    0.000000  \n",
       "25%      1.000000    1.000000  \n",
       "50%      1.000000    3.000000  \n",
       "75%      2.000000    5.000000  \n",
       "max      5.000000    7.000000  "
      ]
     },
     "execution_count": 7,
     "metadata": {},
     "output_type": "execute_result"
    }
   ],
   "source": [
    "df2.describe()"
   ]
  },
  {
   "cell_type": "markdown",
   "id": "fcb74cf8",
   "metadata": {},
   "source": [
    "<br>"
   ]
  },
  {
   "cell_type": "markdown",
   "id": "539b3a22",
   "metadata": {},
   "source": [
    "<h2 style=\"color:purple\">Task 2 : CLASSIFICATION</h2>"
   ]
  },
  {
   "cell_type": "markdown",
   "id": "3ff2265f",
   "metadata": {},
   "source": [
    "<p style=\"color:orchid\"><b>You have to carry out classification,<br>\n",
    "a) Carry out classification by selecting two classification algorithms that you have studied in class. Justify your choice<br>\n",
    "b) Evaluate the results of classification using precision and recall</b></p>"
   ]
  },
  {
   "cell_type": "code",
   "execution_count": 8,
   "id": "c32b4830",
   "metadata": {},
   "outputs": [],
   "source": [
    "inputs=df2[['High-School','Scholarship','Add-Work','Co-Curricular','Partner','Salary']]\n",
    "target=df2.GRADE"
   ]
  },
  {
   "cell_type": "code",
   "execution_count": 9,
   "id": "1ab516d5",
   "metadata": {},
   "outputs": [],
   "source": [
    "from sklearn.model_selection import train_test_split\n",
    "x_train, x_test, y_train, y_test = train_test_split(inputs,target, test_size=0.2)"
   ]
  },
  {
   "cell_type": "code",
   "execution_count": 10,
   "id": "f1f40706",
   "metadata": {},
   "outputs": [],
   "source": [
    "from sklearn.model_selection import cross_val_score"
   ]
  },
  {
   "cell_type": "markdown",
   "id": "616081a7",
   "metadata": {},
   "source": [
    "<h3 style=\"color:RED\">ALG 1 : DECISION TREE</h3>"
   ]
  },
  {
   "cell_type": "code",
   "execution_count": 11,
   "id": "fc4b2e18",
   "metadata": {},
   "outputs": [],
   "source": [
    "from sklearn import tree\n",
    "model = tree.DecisionTreeClassifier(criterion='entropy', max_depth=3)"
   ]
  },
  {
   "cell_type": "code",
   "execution_count": 12,
   "id": "f22dc77c",
   "metadata": {},
   "outputs": [
    {
     "data": {
      "text/plain": [
       "0.21379310344827585"
      ]
     },
     "execution_count": 12,
     "metadata": {},
     "output_type": "execute_result"
    }
   ],
   "source": [
    "scores = cross_val_score(model, inputs, target, cv=5)\n",
    "np.average(scores)"
   ]
  },
  {
   "cell_type": "code",
   "execution_count": 13,
   "id": "9bc4f1d7",
   "metadata": {},
   "outputs": [],
   "source": [
    "myClasses = ['Fail', 'DD', 'DC', 'CC', 'CB', 'BB', 'BA', 'AA']"
   ]
  },
  {
   "cell_type": "code",
   "execution_count": 14,
   "id": "8531cbb3",
   "metadata": {},
   "outputs": [
    {
     "data": {
      "text/plain": [
       "Text(0.5, 1.0, 'Confusion Matrix')"
      ]
     },
     "execution_count": 14,
     "metadata": {},
     "output_type": "execute_result"
    },
    {
     "data": {
      "image/png": "[encoded data removed]",
      "text/plain": [
       "<Figure size 640x480 with 2 Axes>"
      ]
     },
     "metadata": {},
     "output_type": "display_data"
    }
   ],
   "source": [
    "from sklearn.metrics import confusion_matrix\n",
    "from sklearn.model_selection import cross_val_predict\n",
    "y_pred_dt = cross_val_predict(model, inputs, target, cv=5)\n",
    "cm = confusion_matrix(target, y_pred_dt)\n",
    "sns.heatmap(cm, annot=True, fmt='d', cmap='coolwarm', xticklabels=myClasses, yticklabels=myClasses)\n",
    "plt.xlabel('Predicted')\n",
    "plt.ylabel('Actual')\n",
    "plt.title('Confusion Matrix')"
   ]
  },
  {
   "cell_type": "code",
   "execution_count": 49,
   "id": "fc45a8db",
   "metadata": {},
   "outputs": [],
   "source": [
    "precision = cross_val_score(model, inputs, target, cv=5, scoring='precision_macro')\n",
    "recall = cross_val_score(model, inputs, target, cv=5, scoring='recall_macro')\n",
    "import warnings\n",
    "warnings.filterwarnings(\"ignore\")"
   ]
  },
  {
   "cell_type": "code",
   "execution_count": 16,
   "id": "f010b8ec",
   "metadata": {
    "scrolled": true
   },
   "outputs": [
    {
     "data": {
      "text/plain": [
       "0.04828553391053391"
      ]
     },
     "execution_count": 16,
     "metadata": {},
     "output_type": "execute_result"
    }
   ],
   "source": [
    "precision_dt=np.average(precision)\n",
    "precision_dt"
   ]
  },
  {
   "cell_type": "markdown",
   "id": "71a78c50",
   "metadata": {},
   "source": [
    "<p style=\"color:blue\">The precision value of 0.04828553391053391 indicates that just about 4.8% of the samples projected as positive were actually true positives. This shows a low precision, implying that the forecasts have a relatively high probability of false positives.</p>"
   ]
  },
  {
   "cell_type": "code",
   "execution_count": 17,
   "id": "e012c478",
   "metadata": {
    "scrolled": true
   },
   "outputs": [
    {
     "data": {
      "text/plain": [
       "0.12434523809523808"
      ]
     },
     "execution_count": 17,
     "metadata": {},
     "output_type": "execute_result"
    }
   ],
   "source": [
    "recall_dt=np.average(recall)\n",
    "recall_dt"
   ]
  },
  {
   "cell_type": "markdown",
   "id": "1d551b87",
   "metadata": {},
   "source": [
    "<p style=\"color:blue\">With a recall value of 0.12434523809523808, this means that the model accurately recognised just about 12.4% of the real positive samples. This implies a low recall, which means that a considerable number of positive samples are misclassified as negatives. (false negatives).</p>"
   ]
  },
  {
   "cell_type": "markdown",
   "id": "2d8527d2",
   "metadata": {},
   "source": [
    "<h3 style=\"color:RED\">ALG 2 : NAIVE BAYES</h3>"
   ]
  },
  {
   "cell_type": "code",
   "execution_count": 50,
   "id": "dbb35277",
   "metadata": {},
   "outputs": [],
   "source": [
    "from sklearn.naive_bayes import GaussianNB\n",
    "gnb=GaussianNB()"
   ]
  },
  {
   "cell_type": "code",
   "execution_count": 51,
   "id": "60d4eb9c",
   "metadata": {},
   "outputs": [
    {
     "data": {
      "text/html": [
       "<style>#sk-container-id-2 {color: black;background-color: white;}#sk-container-id-2 pre{padding: 0;}#sk-container-id-2 div.sk-toggleable {background-color: white;}#sk-container-id-2 label.sk-toggleable__label {cursor: pointer;display: block;width: 100%;margin-bottom: 0;padding: 0.3em;box-sizing: border-box;text-align: center;}#sk-container-id-2 label.sk-toggleable__label-arrow:before {content: \"▸\";float: left;margin-right: 0.25em;color: #696969;}#sk-container-id-2 label.sk-toggleable__label-arrow:hover:before {color: black;}#sk-container-id-2 div.sk-estimator:hover label.sk-toggleable__label-arrow:before {color: black;}#sk-container-id-2 div.sk-toggleable__content {max-height: 0;max-width: 0;overflow: hidden;text-align: left;background-color: #f0f8ff;}#sk-container-id-2 div.sk-toggleable__content pre {margin: 0.2em;color: black;border-radius: 0.25em;background-color: #f0f8ff;}#sk-container-id-2 input.sk-toggleable__control:checked~div.sk-toggleable__content {max-height: 200px;max-width: 100%;overflow: auto;}#sk-container-id-2 input.sk-toggleable__control:checked~label.sk-toggleable__label-arrow:before {content: \"▾\";}#sk-container-id-2 div.sk-estimator input.sk-toggleable__control:checked~label.sk-toggleable__label {background-color: #d4ebff;}#sk-container-id-2 div.sk-label input.sk-toggleable__control:checked~label.sk-toggleable__label {background-color: #d4ebff;}#sk-container-id-2 input.sk-hidden--visually {border: 0;clip: rect(1px 1px 1px 1px);clip: rect(1px, 1px, 1px, 1px);height: 1px;margin: -1px;overflow: hidden;padding: 0;position: absolute;width: 1px;}#sk-container-id-2 div.sk-estimator {font-family: monospace;background-color: #f0f8ff;border: 1px dotted black;border-radius: 0.25em;box-sizing: border-box;margin-bottom: 0.5em;}#sk-container-id-2 div.sk-estimator:hover {background-color: #d4ebff;}#sk-container-id-2 div.sk-parallel-item::after {content: \"\";width: 100%;border-bottom: 1px solid gray;flex-grow: 1;}#sk-container-id-2 div.sk-label:hover label.sk-toggleable__label {background-color: #d4ebff;}#sk-container-id-2 div.sk-serial::before {content: \"\";position: absolute;border-left: 1px solid gray;box-sizing: border-box;top: 0;bottom: 0;left: 50%;z-index: 0;}#sk-container-id-2 div.sk-serial {display: flex;flex-direction: column;align-items: center;background-color: white;padding-right: 0.2em;padding-left: 0.2em;position: relative;}#sk-container-id-2 div.sk-item {position: relative;z-index: 1;}#sk-container-id-2 div.sk-parallel {display: flex;align-items: stretch;justify-content: center;background-color: white;position: relative;}#sk-container-id-2 div.sk-item::before, #sk-container-id-2 div.sk-parallel-item::before {content: \"\";position: absolute;border-left: 1px solid gray;box-sizing: border-box;top: 0;bottom: 0;left: 50%;z-index: -1;}#sk-container-id-2 div.sk-parallel-item {display: flex;flex-direction: column;z-index: 1;position: relative;background-color: white;}#sk-container-id-2 div.sk-parallel-item:first-child::after {align-self: flex-end;width: 50%;}#sk-container-id-2 div.sk-parallel-item:last-child::after {align-self: flex-start;width: 50%;}#sk-container-id-2 div.sk-parallel-item:only-child::after {width: 0;}#sk-container-id-2 div.sk-dashed-wrapped {border: 1px dashed gray;margin: 0 0.4em 0.5em 0.4em;box-sizing: border-box;padding-bottom: 0.4em;background-color: white;}#sk-container-id-2 div.sk-label label {font-family: monospace;font-weight: bold;display: inline-block;line-height: 1.2em;}#sk-container-id-2 div.sk-label-container {text-align: center;}#sk-container-id-2 div.sk-container {/* jupyter's `normalize.less` sets `[hidden] { display: none; }` but bootstrap.min.css set `[hidden] { display: none !important; }` so we also need the `!important` here to be able to override the default hidden behavior on the sphinx rendered scikit-learn.org. See: https://github.com/scikit-learn/scikit-learn/issues/21755 */display: inline-block !important;position: relative;}#sk-container-id-2 div.sk-text-repr-fallback {display: none;}</style><div id=\"sk-container-id-2\" class=\"sk-top-container\"><div class=\"sk-text-repr-fallback\"><pre>GaussianNB()</pre><b>In a Jupyter environment, please rerun this cell to show the HTML representation or trust the notebook. <br />On GitHub, the HTML representation is unable to render, please try loading this page with nbviewer.org.</b></div><div class=\"sk-container\" hidden><div class=\"sk-item\"><div class=\"sk-estimator sk-toggleable\"><input class=\"sk-toggleable__control sk-hidden--visually\" id=\"sk-estimator-id-2\" type=\"checkbox\" checked><label for=\"sk-estimator-id-2\" class=\"sk-toggleable__label sk-toggleable__label-arrow\">GaussianNB</label><div class=\"sk-toggleable__content\"><pre>GaussianNB()</pre></div></div></div></div></div>"
      ],
      "text/plain": [
       "GaussianNB()"
      ]
     },
     "execution_count": 51,
     "metadata": {},
     "output_type": "execute_result"
    }
   ],
   "source": [
    "gnb.fit(x_train,y_train)"
   ]
  },
  {
   "cell_type": "code",
   "execution_count": 52,
   "id": "2d7238e9",
   "metadata": {},
   "outputs": [
    {
     "data": {
      "text/plain": [
       "0.27586206896551724"
      ]
     },
     "execution_count": 52,
     "metadata": {},
     "output_type": "execute_result"
    }
   ],
   "source": [
    "gnb.score(x_train,y_train)"
   ]
  },
  {
   "cell_type": "code",
   "execution_count": 53,
   "id": "3344051b",
   "metadata": {},
   "outputs": [
    {
     "data": {
      "text/plain": [
       "Text(0.5, 1.0, 'Confusion Matrix')"
      ]
     },
     "execution_count": 53,
     "metadata": {},
     "output_type": "execute_result"
    },
    {
     "data": {
      "image/png": "[encoded data removed]",
      "text/plain": [
       "<Figure size 640x480 with 2 Axes>"
      ]
     },
     "metadata": {},
     "output_type": "display_data"
    }
   ],
   "source": [
    "y_pred_nb = cross_val_predict(gnb, inputs, target, cv=5)\n",
    "cm1 = confusion_matrix(target, y_pred_nb)\n",
    "sns.heatmap(cm1, annot=True, fmt='d', cmap='coolwarm', xticklabels=myClasses, yticklabels=myClasses)\n",
    "plt.xlabel('Predicted')\n",
    "plt.ylabel('Actual')\n",
    "plt.title('Confusion Matrix')"
   ]
  },
  {
   "cell_type": "code",
   "execution_count": 54,
   "id": "b4c6a12a",
   "metadata": {},
   "outputs": [],
   "source": [
    "precision_nb = cross_val_score(gnb, inputs, target, cv=5, scoring='precision_macro')\n",
    "recall_nb = cross_val_score(gnb, inputs, target, cv=5, scoring='recall_macro')\n",
    "import warnings\n",
    "warnings.filterwarnings(\"ignore\")"
   ]
  },
  {
   "cell_type": "code",
   "execution_count": 55,
   "id": "3d22bc97",
   "metadata": {},
   "outputs": [
    {
     "data": {
      "text/plain": [
       "0.13352591852591852"
      ]
     },
     "execution_count": 55,
     "metadata": {},
     "output_type": "execute_result"
    }
   ],
   "source": [
    "precision_nb=np.average(precision_nb)\n",
    "precision_nb"
   ]
  },
  {
   "cell_type": "markdown",
   "id": "8e9b2c03",
   "metadata": {},
   "source": [
    "<p style=\"color:blue\">The precision value of 0.13352591852591852 indicates that just about 13.4% of the samples projected as positive were actually true positives. This shows a low precision, implying that the forecasts have a relatively high probability of false positives</p>"
   ]
  },
  {
   "cell_type": "code",
   "execution_count": 56,
   "id": "cc5b66fc",
   "metadata": {},
   "outputs": [
    {
     "data": {
      "text/plain": [
       "0.13601190476190478"
      ]
     },
     "execution_count": 56,
     "metadata": {},
     "output_type": "execute_result"
    }
   ],
   "source": [
    "recall_nb=np.average(recall_nb)\n",
    "recall_nb"
   ]
  },
  {
   "cell_type": "markdown",
   "id": "f6d726cf",
   "metadata": {},
   "source": [
    "<p style=\"color:blue\">With a recall value of 0.13601190476190478, this means that the model accurately recognised just about 13.6% of the real positive samples. This implies a low recall, which means that a considerable number of positive samples are misclassified as negatives. (false negatives)..</p>"
   ]
  },
  {
   "cell_type": "markdown",
   "id": "18393a09",
   "metadata": {},
   "source": [
    "<br>"
   ]
  },
  {
   "cell_type": "markdown",
   "id": "a247933a",
   "metadata": {},
   "source": [
    "<h2 style=\"color:purple\">Task 2 : CLUSTERING</h2>"
   ]
  },
  {
   "cell_type": "markdown",
   "id": "793fa62e",
   "metadata": {},
   "source": [
    "<p style=\"color:orchid\"><b>You have to carry out clustering,<br>\n",
    "a) Carry out clustering by selecting two clustering algorithms that you have studied in class. Justify your choice<br>\n",
    "b) Evaluate the results of clustering using precision and recall</b></p>"
   ]
  },
  {
   "cell_type": "code",
   "execution_count": 25,
   "id": "b010af91",
   "metadata": {},
   "outputs": [],
   "source": [
    "from sklearn.cluster import KMeans"
   ]
  },
  {
   "cell_type": "code",
   "execution_count": 26,
   "id": "e4c9fa63",
   "metadata": {},
   "outputs": [
    {
     "data": {
      "image/png": "[encoded data removed]",
      "text/plain": [
       "<Figure size 640x480 with 1 Axes>"
      ]
     },
     "metadata": {},
     "output_type": "display_data"
    }
   ],
   "source": [
    "sse=[]\n",
    "k_rng=range(1,10)\n",
    "for k in k_rng:\n",
    "    km = KMeans(n_clusters=k)\n",
    "    km.fit(inputs)\n",
    "    sse.append(km.inertia_)\n",
    "    \n",
    "\n",
    "plt.plot(k_rng,sse)\n",
    "plt.xlabel(\"k values\")\n",
    "plt.ylabel(\"SSE\")\n",
    "plt.title(\"Elbow Technique\")\n",
    "plt.grid(color=\"red\",linestyle=\":\",alpha=0.5)\n",
    "import warnings\n",
    "warnings.filterwarnings('ignore')"
   ]
  },
  {
   "cell_type": "code",
   "execution_count": 57,
   "id": "8321bec8",
   "metadata": {},
   "outputs": [],
   "source": [
    "myClasses2 = ['C0', 'C1', 'C2','C3', 'C4', 'C5','C6', 'C7']"
   ]
  },
  {
   "cell_type": "markdown",
   "id": "4c7d8d36",
   "metadata": {},
   "source": [
    "<h3 style=\"color:RED\">ALG 1 : PARTITIONING-BASE K_MEAN</h3>"
   ]
  },
  {
   "cell_type": "code",
   "execution_count": 58,
   "id": "35d58a69",
   "metadata": {},
   "outputs": [
    {
     "name": "stdout",
     "output_type": "stream",
     "text": [
      "[0 0 1 1 1 1 3 0 5 1 1 4 3 3 4 7 2 7 1 1 3 3 0 6 1 7 5 0 7 3 2 0 1 0 1 4 1\n",
      " 0 3 7 1 1 5 7 7 6 7 7 5 1 1 0 1 1 1 6 5 0 1 5 6 1 7 1 3 1 7 1 3 3 5 3 5 3\n",
      " 3 3 1 1 3 3 0 0 1 1 1 3 3 1 5 7 5 2 7 0 7 2 5 3 3 7 3 1 7 6 7 3 3 3 2 5 1\n",
      " 2 0 7 4 3 3 5 2 3 0 0 2 1 5 2 4 3 5 0 0 2 2 3 3 0 0 2 6 1 0 3 3 6 4]\n"
     ]
    }
   ],
   "source": [
    "k_clusters = 8\n",
    "kmeans = KMeans(n_clusters=k_clusters, random_state=39)\n",
    "kmeans.fit(inputs)\n",
    "centroids = kmeans.cluster_centers_\n",
    "\n",
    "cluster_groups = kmeans.labels_\n",
    "print(cluster_groups)"
   ]
  },
  {
   "cell_type": "code",
   "execution_count": 59,
   "id": "7112e39e",
   "metadata": {},
   "outputs": [
    {
     "data": {
      "text/html": [
       "<div>\n",
       "<style scoped>\n",
       "    .dataframe tbody tr th:only-of-type {\n",
       "        vertical-align: middle;\n",
       "    }\n",
       "\n",
       "    .dataframe tbody tr th {\n",
       "        vertical-align: top;\n",
       "    }\n",
       "\n",
       "    .dataframe thead th {\n",
       "        text-align: right;\n",
       "    }\n",
       "</style>\n",
       "<table border=\"1\" class=\"dataframe\">\n",
       "  <thead>\n",
       "    <tr style=\"text-align: right;\">\n",
       "      <th></th>\n",
       "      <th>High-School</th>\n",
       "      <th>Scholarship</th>\n",
       "      <th>Add-Work</th>\n",
       "      <th>Co-Curricular</th>\n",
       "      <th>Partner</th>\n",
       "      <th>Salary</th>\n",
       "      <th>GRADE</th>\n",
       "      <th>Student_Group</th>\n",
       "    </tr>\n",
       "  </thead>\n",
       "  <tbody>\n",
       "    <tr>\n",
       "      <th>0</th>\n",
       "      <td>3</td>\n",
       "      <td>3</td>\n",
       "      <td>1</td>\n",
       "      <td>2</td>\n",
       "      <td>2</td>\n",
       "      <td>1</td>\n",
       "      <td>1</td>\n",
       "      <td>0</td>\n",
       "    </tr>\n",
       "    <tr>\n",
       "      <th>1</th>\n",
       "      <td>3</td>\n",
       "      <td>3</td>\n",
       "      <td>1</td>\n",
       "      <td>2</td>\n",
       "      <td>2</td>\n",
       "      <td>1</td>\n",
       "      <td>1</td>\n",
       "      <td>0</td>\n",
       "    </tr>\n",
       "    <tr>\n",
       "      <th>2</th>\n",
       "      <td>2</td>\n",
       "      <td>3</td>\n",
       "      <td>2</td>\n",
       "      <td>2</td>\n",
       "      <td>2</td>\n",
       "      <td>2</td>\n",
       "      <td>1</td>\n",
       "      <td>1</td>\n",
       "    </tr>\n",
       "    <tr>\n",
       "      <th>3</th>\n",
       "      <td>1</td>\n",
       "      <td>3</td>\n",
       "      <td>1</td>\n",
       "      <td>2</td>\n",
       "      <td>1</td>\n",
       "      <td>2</td>\n",
       "      <td>1</td>\n",
       "      <td>1</td>\n",
       "    </tr>\n",
       "    <tr>\n",
       "      <th>4</th>\n",
       "      <td>1</td>\n",
       "      <td>3</td>\n",
       "      <td>2</td>\n",
       "      <td>2</td>\n",
       "      <td>1</td>\n",
       "      <td>3</td>\n",
       "      <td>1</td>\n",
       "      <td>1</td>\n",
       "    </tr>\n",
       "  </tbody>\n",
       "</table>\n",
       "</div>"
      ],
      "text/plain": [
       "   High-School  Scholarship  Add-Work  Co-Curricular  Partner  Salary  GRADE  \\\n",
       "0            3            3         1              2        2       1      1   \n",
       "1            3            3         1              2        2       1      1   \n",
       "2            2            3         2              2        2       2      1   \n",
       "3            1            3         1              2        1       2      1   \n",
       "4            1            3         2              2        1       3      1   \n",
       "\n",
       "   Student_Group  \n",
       "0              0  \n",
       "1              0  \n",
       "2              1  \n",
       "3              1  \n",
       "4              1  "
      ]
     },
     "execution_count": 59,
     "metadata": {},
     "output_type": "execute_result"
    }
   ],
   "source": [
    "df3=df2.copy()\n",
    "df3['Student_Group']=cluster_groups\n",
    "df3.head()"
   ]
  },
  {
   "cell_type": "code",
   "execution_count": 60,
   "id": "4aed47f2",
   "metadata": {},
   "outputs": [],
   "source": [
    "from sklearn.decomposition import PCA\n",
    "redPCA = PCA(n_components=2)\n",
    "redData = redPCA.fit_transform(inputs)"
   ]
  },
  {
   "cell_type": "code",
   "execution_count": 61,
   "id": "249ec7e2",
   "metadata": {
    "scrolled": true
   },
   "outputs": [
    {
     "data": {
      "image/png": "[encoded data removed]",
      "text/plain": [
       "<Figure size 640x480 with 1 Axes>"
      ]
     },
     "metadata": {},
     "output_type": "display_data"
    }
   ],
   "source": [
    "cluster_colors = ['red', 'green', 'blue','orange', 'yellow', 'purple','black','magenta']\n",
    "for label in set(cluster_groups):\n",
    "    cluster_data = redData[cluster_groups == label]\n",
    "    plt.scatter(cluster_data[:, 0], cluster_data[:, 1], c=cluster_colors[label], label=f'Cluster {label}')\n",
    "\n",
    "plt.xlabel('Student AttrColl 1')\n",
    "plt.ylabel('Student AttrColl 2')\n",
    "plt.title('Clustering Visualization')\n",
    "plt.legend()\n",
    "plt.grid(color=\"red\",linestyle=\":\",alpha=0.5)\n",
    "plt.show()"
   ]
  },
  {
   "cell_type": "code",
   "execution_count": 62,
   "id": "a537ae57",
   "metadata": {},
   "outputs": [
    {
     "data": {
      "text/plain": [
       "0.20038511425215916"
      ]
     },
     "execution_count": 62,
     "metadata": {},
     "output_type": "execute_result"
    }
   ],
   "source": [
    "from sklearn.metrics import silhouette_score\n",
    "silhouette_km = silhouette_score(inputs, cluster_groups)\n",
    "silhouette_km"
   ]
  },
  {
   "cell_type": "markdown",
   "id": "abe789eb",
   "metadata": {},
   "source": [
    "<br>"
   ]
  },
  {
   "cell_type": "markdown",
   "id": "d77d45c8",
   "metadata": {},
   "source": [
    "<br>"
   ]
  },
  {
   "cell_type": "markdown",
   "id": "4028087c",
   "metadata": {},
   "source": [
    "<CENTER><h6 style=\"color:red\">--------------UNGRADED PART---------------</H6></CENTER>"
   ]
  },
  {
   "cell_type": "code",
   "execution_count": 33,
   "id": "0bd100e9",
   "metadata": {
    "scrolled": true
   },
   "outputs": [
    {
     "data": {
      "text/plain": [
       "Text(0.5, 1.0, 'Confusion Matrix')"
      ]
     },
     "execution_count": 33,
     "metadata": {},
     "output_type": "execute_result"
    },
    {
     "data": {
      "image/png": "[encoded data removed]",
      "text/plain": [
       "<Figure size 640x480 with 2 Axes>"
      ]
     },
     "metadata": {},
     "output_type": "display_data"
    }
   ],
   "source": [
    "cm2 = confusion_matrix(target, cluster_groups)\n",
    "sns.heatmap(cm2, annot=True, fmt='d', cmap='coolwarm', xticklabels=myClasses2, yticklabels=myClasses)\n",
    "plt.xlabel('Predicted')\n",
    "plt.ylabel('Actual')\n",
    "plt.title('Confusion Matrix')"
   ]
  },
  {
   "cell_type": "code",
   "execution_count": 34,
   "id": "37b91d08",
   "metadata": {},
   "outputs": [],
   "source": [
    "precision_km = []\n",
    "recall_km = []\n",
    "a=0\n",
    "for i in range(k_clusters):\n",
    "    TP = cm2[i, i]\n",
    "    FP = np.sum(cm2[:, i]) - TP\n",
    "    FN = np.sum(cm2[i, :]) - TP\n",
    "    \n",
    "    p = TP / (TP + FP)\n",
    "    r = TP / (TP + FN)\n",
    "    \n",
    "    precision_km.append(p)\n",
    "    recall_km.append(r)"
   ]
  },
  {
   "cell_type": "code",
   "execution_count": 35,
   "id": "19d30384",
   "metadata": {},
   "outputs": [
    {
     "data": {
      "text/plain": [
       "0.14788821778711486"
      ]
     },
     "execution_count": 35,
     "metadata": {},
     "output_type": "execute_result"
    }
   ],
   "source": [
    "precision_km=np.mean(precision_km)\n",
    "precision_km"
   ]
  },
  {
   "cell_type": "code",
   "execution_count": 36,
   "id": "b61a2f31",
   "metadata": {},
   "outputs": [
    {
     "data": {
      "text/plain": [
       "0.14977240896358543"
      ]
     },
     "execution_count": 36,
     "metadata": {},
     "output_type": "execute_result"
    }
   ],
   "source": [
    "recall_km=np.mean(recall_km)\n",
    "recall_km"
   ]
  },
  {
   "cell_type": "markdown",
   "id": "001cbdca",
   "metadata": {},
   "source": [
    "<br>"
   ]
  },
  {
   "cell_type": "markdown",
   "id": "1ffd1361",
   "metadata": {},
   "source": [
    "<h3 style=\"color:RED\">ALG 2 : HIERARCHICAL-BASE AgglomerativeClustering</h3>"
   ]
  },
  {
   "cell_type": "code",
   "execution_count": 37,
   "id": "bd104ed5",
   "metadata": {},
   "outputs": [],
   "source": [
    "from sklearn.cluster import AgglomerativeClustering"
   ]
  },
  {
   "cell_type": "code",
   "execution_count": 38,
   "id": "1c6ec3a7",
   "metadata": {},
   "outputs": [
    {
     "name": "stdout",
     "output_type": "stream",
     "text": [
      "[18 18 31 11  8 31 28 11  2  8  8  5  7 19  5 22 21 22 10 14 15 15  3  9\n",
      " 31 24  2 13 24 16 12 13 31  3 14 10  4 11 19 24  7 13  1 24  2 32 24 24\n",
      "  2  7 14 18 13 26 27 32  1 25  8  2  9 26 22  6 19  8 24  4 20  6 29 16\n",
      "  2 28 28 30  1 14 20 28  3 13  6 27  4 19 28 26 29 22  2 12 22 17 24 12\n",
      " 29 20 30 22 28  6 24  0 22 20 30 20 23  1 31 23 18 16  5 15 19  1 21 30\n",
      " 11  3 21 27  3 12  5 28 29 25 25 23 23 15 30 25  3 23  0  6 25 28  7  0\n",
      " 10]\n"
     ]
    }
   ],
   "source": [
    "agglo = AgglomerativeClustering(n_clusters=None, distance_threshold=2)\n",
    "cluster_groupsAgg = agglo.fit_predict(inputs)\n",
    "print(cluster_groupsAgg)"
   ]
  },
  {
   "cell_type": "code",
   "execution_count": 39,
   "id": "8278712e",
   "metadata": {},
   "outputs": [
    {
     "name": "stdout",
     "output_type": "stream",
     "text": [
      "Total number of clusters: 33\n"
     ]
    }
   ],
   "source": [
    "total_clusters = len(set(cluster_groupsAgg))\n",
    "print(\"Total number of clusters:\", total_clusters)"
   ]
  },
  {
   "cell_type": "code",
   "execution_count": 40,
   "id": "5338332a",
   "metadata": {},
   "outputs": [
    {
     "data": {
      "text/html": [
       "<div>\n",
       "<style scoped>\n",
       "    .dataframe tbody tr th:only-of-type {\n",
       "        vertical-align: middle;\n",
       "    }\n",
       "\n",
       "    .dataframe tbody tr th {\n",
       "        vertical-align: top;\n",
       "    }\n",
       "\n",
       "    .dataframe thead th {\n",
       "        text-align: right;\n",
       "    }\n",
       "</style>\n",
       "<table border=\"1\" class=\"dataframe\">\n",
       "  <thead>\n",
       "    <tr style=\"text-align: right;\">\n",
       "      <th></th>\n",
       "      <th>High-School</th>\n",
       "      <th>Scholarship</th>\n",
       "      <th>Add-Work</th>\n",
       "      <th>Co-Curricular</th>\n",
       "      <th>Partner</th>\n",
       "      <th>Salary</th>\n",
       "      <th>GRADE</th>\n",
       "      <th>Student_Group</th>\n",
       "    </tr>\n",
       "  </thead>\n",
       "  <tbody>\n",
       "    <tr>\n",
       "      <th>0</th>\n",
       "      <td>3</td>\n",
       "      <td>3</td>\n",
       "      <td>1</td>\n",
       "      <td>2</td>\n",
       "      <td>2</td>\n",
       "      <td>1</td>\n",
       "      <td>1</td>\n",
       "      <td>18</td>\n",
       "    </tr>\n",
       "    <tr>\n",
       "      <th>1</th>\n",
       "      <td>3</td>\n",
       "      <td>3</td>\n",
       "      <td>1</td>\n",
       "      <td>2</td>\n",
       "      <td>2</td>\n",
       "      <td>1</td>\n",
       "      <td>1</td>\n",
       "      <td>18</td>\n",
       "    </tr>\n",
       "    <tr>\n",
       "      <th>2</th>\n",
       "      <td>2</td>\n",
       "      <td>3</td>\n",
       "      <td>2</td>\n",
       "      <td>2</td>\n",
       "      <td>2</td>\n",
       "      <td>2</td>\n",
       "      <td>1</td>\n",
       "      <td>31</td>\n",
       "    </tr>\n",
       "    <tr>\n",
       "      <th>3</th>\n",
       "      <td>1</td>\n",
       "      <td>3</td>\n",
       "      <td>1</td>\n",
       "      <td>2</td>\n",
       "      <td>1</td>\n",
       "      <td>2</td>\n",
       "      <td>1</td>\n",
       "      <td>11</td>\n",
       "    </tr>\n",
       "    <tr>\n",
       "      <th>4</th>\n",
       "      <td>1</td>\n",
       "      <td>3</td>\n",
       "      <td>2</td>\n",
       "      <td>2</td>\n",
       "      <td>1</td>\n",
       "      <td>3</td>\n",
       "      <td>1</td>\n",
       "      <td>8</td>\n",
       "    </tr>\n",
       "  </tbody>\n",
       "</table>\n",
       "</div>"
      ],
      "text/plain": [
       "   High-School  Scholarship  Add-Work  Co-Curricular  Partner  Salary  GRADE  \\\n",
       "0            3            3         1              2        2       1      1   \n",
       "1            3            3         1              2        2       1      1   \n",
       "2            2            3         2              2        2       2      1   \n",
       "3            1            3         1              2        1       2      1   \n",
       "4            1            3         2              2        1       3      1   \n",
       "\n",
       "   Student_Group  \n",
       "0             18  \n",
       "1             18  \n",
       "2             31  \n",
       "3             11  \n",
       "4              8  "
      ]
     },
     "execution_count": 40,
     "metadata": {},
     "output_type": "execute_result"
    }
   ],
   "source": [
    "df4=df2.copy()\n",
    "df4['Student_Group']=cluster_groupsAgg\n",
    "df4.head()"
   ]
  },
  {
   "cell_type": "code",
   "execution_count": 41,
   "id": "cf12fcc5",
   "metadata": {},
   "outputs": [
    {
     "data": {
      "image/png": "[encoded data removed]",
      "text/plain": [
       "<Figure size 1000x600 with 1 Axes>"
      ]
     },
     "metadata": {},
     "output_type": "display_data"
    }
   ],
   "source": [
    "from scipy.cluster.hierarchy import dendrogram, linkage\n",
    "\n",
    "dend = linkage(inputs, method='complete', metric='euclidean')\n",
    "plt.figure(figsize=(10, 6))\n",
    "dendrogram(dend)\n",
    "plt.xlabel('Inputs Obj')\n",
    "plt.ylabel('Distance')\n",
    "plt.title('Dendrogram')\n",
    "plt.show()"
   ]
  },
  {
   "cell_type": "code",
   "execution_count": 42,
   "id": "9349cf3b",
   "metadata": {},
   "outputs": [
    {
     "data": {
      "text/plain": [
       "0.5166066720141106"
      ]
     },
     "execution_count": 42,
     "metadata": {},
     "output_type": "execute_result"
    }
   ],
   "source": [
    "silhouette_agg = silhouette_score(inputs, cluster_groupsAgg)\n",
    "silhouette_agg"
   ]
  },
  {
   "cell_type": "markdown",
   "id": "57cf4196",
   "metadata": {},
   "source": [
    "<br><br>"
   ]
  },
  {
   "cell_type": "markdown",
   "id": "5c42538c",
   "metadata": {},
   "source": [
    "<CENTER><h6 style=\"color:red\">--------------UNGRADED PART---------------</H6></CENTER>"
   ]
  },
  {
   "cell_type": "code",
   "execution_count": 44,
   "id": "e2802ac8",
   "metadata": {},
   "outputs": [],
   "source": [
    "precision_ag = []\n",
    "recall_ag = []\n",
    "a=0\n",
    "for i in range(k_clusters):\n",
    "    TP = cm3[i, i]\n",
    "    FP = np.sum(cm3[:, i]) - TP\n",
    "    FN = np.sum(cm3[i, :]) - TP\n",
    "    \n",
    "    p = TP / (TP + FP)\n",
    "    r = TP / (TP + FN)\n",
    "    \n",
    "    precision_ag.append(p)\n",
    "    recall_ag.append(r)"
   ]
  },
  {
   "cell_type": "code",
   "execution_count": 45,
   "id": "fce25767",
   "metadata": {},
   "outputs": [
    {
     "data": {
      "text/plain": [
       "0.13333333333333333"
      ]
     },
     "execution_count": 45,
     "metadata": {},
     "output_type": "execute_result"
    }
   ],
   "source": [
    "precision_ag=np.mean(precision_ag)\n",
    "precision_ag"
   ]
  },
  {
   "cell_type": "code",
   "execution_count": 46,
   "id": "70d73135",
   "metadata": {},
   "outputs": [
    {
     "data": {
      "text/plain": [
       "0.03467261904761905"
      ]
     },
     "execution_count": 46,
     "metadata": {},
     "output_type": "execute_result"
    }
   ],
   "source": [
    "recall_ag=np.mean(recall_ag)\n",
    "recall_ag"
   ]
  },
  {
   "cell_type": "markdown",
   "id": "89310580",
   "metadata": {},
   "source": [
    "<h4 style=\"color:red\">----------------------------------------------------------------------------------------------------------------------------------------------------------------------------------------------</h4>\n",
    "<center><h1 style=\"color:purple\">END OF ASSIGNMENT</H1></CENTER>\n",
    "<h4 style=\"color:red\">----------------------------------------------------------------------------------------------------------------------------------------------------------------------------------------------</h4>"
   ]
  }
 ],
 "metadata": {
  "kernelspec": {
   "display_name": "Python 3 (ipykernel)",
   "language": "python",
   "name": "python3"
  },
  "language_info": {
   "codemirror_mode": {
    "name": "ipython",
    "version": 3
   },
   "file_extension": ".py",
   "mimetype": "text/x-python",
   "name": "python",
   "nbconvert_exporter": "python",
   "pygments_lexer": "ipython3",
   "version": "3.10.8"
  }
 },
 "nbformat": 4,
 "nbformat_minor": 5
}
